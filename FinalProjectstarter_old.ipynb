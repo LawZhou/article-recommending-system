{
  "nbformat": 4,
  "nbformat_minor": 0,
  "metadata": {
    "kernelspec": {
      "display_name": "Python 3",
      "language": "python",
      "name": "python3"
    },
    "language_info": {
      "codemirror_mode": {
        "name": "ipython",
        "version": 3
      },
      "file_extension": ".py",
      "mimetype": "text/x-python",
      "name": "python",
      "nbconvert_exporter": "python",
      "pygments_lexer": "ipython3",
      "version": "3.6.7"
    },
    "colab": {
      "name": "FinalProjectstarter.ipynb",
      "provenance": [],
      "machine_shape": "hm"
    },
    "widgets": {
      "application/vnd.jupyter.widget-state+json": {
        "598593583a5b4c6693f879334376ae3d": {
          "model_module": "@jupyter-widgets/controls",
          "model_name": "HBoxModel",
          "state": {
            "_view_name": "HBoxView",
            "_dom_classes": [],
            "_model_name": "HBoxModel",
            "_view_module": "@jupyter-widgets/controls",
            "_model_module_version": "1.5.0",
            "_view_count": null,
            "_view_module_version": "1.5.0",
            "box_style": "",
            "layout": "IPY_MODEL_22cfebe264d044f9bc3220b7dd345999",
            "_model_module": "@jupyter-widgets/controls",
            "children": [
              "IPY_MODEL_d6e3b69cb5d44d338d871acb7ff93f61",
              "IPY_MODEL_3b95c181af994ea08ff92424cf03229d"
            ]
          }
        },
        "22cfebe264d044f9bc3220b7dd345999": {
          "model_module": "@jupyter-widgets/base",
          "model_name": "LayoutModel",
          "state": {
            "_view_name": "LayoutView",
            "grid_template_rows": null,
            "right": null,
            "justify_content": null,
            "_view_module": "@jupyter-widgets/base",
            "overflow": null,
            "_model_module_version": "1.2.0",
            "_view_count": null,
            "flex_flow": null,
            "width": null,
            "min_width": null,
            "border": null,
            "align_items": null,
            "bottom": null,
            "_model_module": "@jupyter-widgets/base",
            "top": null,
            "grid_column": null,
            "overflow_y": null,
            "overflow_x": null,
            "grid_auto_flow": null,
            "grid_area": null,
            "grid_template_columns": null,
            "flex": null,
            "_model_name": "LayoutModel",
            "justify_items": null,
            "grid_row": null,
            "max_height": null,
            "align_content": null,
            "visibility": null,
            "align_self": null,
            "height": null,
            "min_height": null,
            "padding": null,
            "grid_auto_rows": null,
            "grid_gap": null,
            "max_width": null,
            "order": null,
            "_view_module_version": "1.2.0",
            "grid_template_areas": null,
            "object_position": null,
            "object_fit": null,
            "grid_auto_columns": null,
            "margin": null,
            "display": null,
            "left": null
          }
        },
        "d6e3b69cb5d44d338d871acb7ff93f61": {
          "model_module": "@jupyter-widgets/controls",
          "model_name": "FloatProgressModel",
          "state": {
            "_view_name": "ProgressView",
            "style": "IPY_MODEL_586d9cbe001f45e69bdec5f96f8af8d8",
            "_dom_classes": [],
            "description": "",
            "_model_name": "FloatProgressModel",
            "bar_style": "info",
            "max": 1,
            "_view_module": "@jupyter-widgets/controls",
            "_model_module_version": "1.5.0",
            "value": 0,
            "_view_count": null,
            "_view_module_version": "1.5.0",
            "orientation": "horizontal",
            "min": 0,
            "description_tooltip": null,
            "_model_module": "@jupyter-widgets/controls",
            "layout": "IPY_MODEL_7f14b54fac364374b4cdb04d36f86ed6"
          }
        },
        "3b95c181af994ea08ff92424cf03229d": {
          "model_module": "@jupyter-widgets/controls",
          "model_name": "HTMLModel",
          "state": {
            "_view_name": "HTMLView",
            "style": "IPY_MODEL_4ca5aab49bd740f18ac017bdd632388f",
            "_dom_classes": [],
            "description": "",
            "_model_name": "HTMLModel",
            "placeholder": "​",
            "_view_module": "@jupyter-widgets/controls",
            "_model_module_version": "1.5.0",
            "value": " 0/? [00:00&lt;?, ?it/s]",
            "_view_count": null,
            "_view_module_version": "1.5.0",
            "description_tooltip": null,
            "_model_module": "@jupyter-widgets/controls",
            "layout": "IPY_MODEL_79b62c722d29497d945e7d500ccd5588"
          }
        },
        "586d9cbe001f45e69bdec5f96f8af8d8": {
          "model_module": "@jupyter-widgets/controls",
          "model_name": "ProgressStyleModel",
          "state": {
            "_view_name": "StyleView",
            "_model_name": "ProgressStyleModel",
            "description_width": "initial",
            "_view_module": "@jupyter-widgets/base",
            "_model_module_version": "1.5.0",
            "_view_count": null,
            "_view_module_version": "1.2.0",
            "bar_color": null,
            "_model_module": "@jupyter-widgets/controls"
          }
        },
        "7f14b54fac364374b4cdb04d36f86ed6": {
          "model_module": "@jupyter-widgets/base",
          "model_name": "LayoutModel",
          "state": {
            "_view_name": "LayoutView",
            "grid_template_rows": null,
            "right": null,
            "justify_content": null,
            "_view_module": "@jupyter-widgets/base",
            "overflow": null,
            "_model_module_version": "1.2.0",
            "_view_count": null,
            "flex_flow": null,
            "width": null,
            "min_width": null,
            "border": null,
            "align_items": null,
            "bottom": null,
            "_model_module": "@jupyter-widgets/base",
            "top": null,
            "grid_column": null,
            "overflow_y": null,
            "overflow_x": null,
            "grid_auto_flow": null,
            "grid_area": null,
            "grid_template_columns": null,
            "flex": null,
            "_model_name": "LayoutModel",
            "justify_items": null,
            "grid_row": null,
            "max_height": null,
            "align_content": null,
            "visibility": null,
            "align_self": null,
            "height": null,
            "min_height": null,
            "padding": null,
            "grid_auto_rows": null,
            "grid_gap": null,
            "max_width": null,
            "order": null,
            "_view_module_version": "1.2.0",
            "grid_template_areas": null,
            "object_position": null,
            "object_fit": null,
            "grid_auto_columns": null,
            "margin": null,
            "display": null,
            "left": null
          }
        },
        "4ca5aab49bd740f18ac017bdd632388f": {
          "model_module": "@jupyter-widgets/controls",
          "model_name": "DescriptionStyleModel",
          "state": {
            "_view_name": "StyleView",
            "_model_name": "DescriptionStyleModel",
            "description_width": "",
            "_view_module": "@jupyter-widgets/base",
            "_model_module_version": "1.5.0",
            "_view_count": null,
            "_view_module_version": "1.2.0",
            "_model_module": "@jupyter-widgets/controls"
          }
        },
        "79b62c722d29497d945e7d500ccd5588": {
          "model_module": "@jupyter-widgets/base",
          "model_name": "LayoutModel",
          "state": {
            "_view_name": "LayoutView",
            "grid_template_rows": null,
            "right": null,
            "justify_content": null,
            "_view_module": "@jupyter-widgets/base",
            "overflow": null,
            "_model_module_version": "1.2.0",
            "_view_count": null,
            "flex_flow": null,
            "width": null,
            "min_width": null,
            "border": null,
            "align_items": null,
            "bottom": null,
            "_model_module": "@jupyter-widgets/base",
            "top": null,
            "grid_column": null,
            "overflow_y": null,
            "overflow_x": null,
            "grid_auto_flow": null,
            "grid_area": null,
            "grid_template_columns": null,
            "flex": null,
            "_model_name": "LayoutModel",
            "justify_items": null,
            "grid_row": null,
            "max_height": null,
            "align_content": null,
            "visibility": null,
            "align_self": null,
            "height": null,
            "min_height": null,
            "padding": null,
            "grid_auto_rows": null,
            "grid_gap": null,
            "max_width": null,
            "order": null,
            "_view_module_version": "1.2.0",
            "grid_template_areas": null,
            "object_position": null,
            "object_fit": null,
            "grid_auto_columns": null,
            "margin": null,
            "display": null,
            "left": null
          }
        }
      }
    }
  },
  "cells": [
    {
      "cell_type": "code",
      "metadata": {
        "id": "LOuVbBoKrOQW"
      },
      "source": [
        "!pip install tqdm_notebook > /dev/null 2>&1"
      ],
      "execution_count": 15,
      "outputs": []
    },
    {
      "cell_type": "code",
      "metadata": {
        "id": "CXMxwxjF8VaS"
      },
      "source": [
        "#Import Libraries\n",
        "\n",
        "import csv\n",
        "import random\n",
        "import numpy as np\n",
        "import pandas as pd\n",
        "\n",
        "# Plotting\n",
        "import matplotlib.pyplot as plt\n",
        "\n",
        "# Machine Learning\n",
        "from sklearn.preprocessing import normalize\n",
        "import scipy.cluster.hierarchy as sch\n",
        "\n",
        "\n",
        "%matplotlib inline"
      ],
      "execution_count": 16,
      "outputs": []
    },
    {
      "cell_type": "code",
      "metadata": {
        "colab": {
          "base_uri": "https://localhost:8080/",
          "height": 100,
          "referenced_widgets": [
            "598593583a5b4c6693f879334376ae3d",
            "22cfebe264d044f9bc3220b7dd345999",
            "d6e3b69cb5d44d338d871acb7ff93f61",
            "3b95c181af994ea08ff92424cf03229d",
            "586d9cbe001f45e69bdec5f96f8af8d8",
            "7f14b54fac364374b4cdb04d36f86ed6",
            "4ca5aab49bd740f18ac017bdd632388f",
            "79b62c722d29497d945e7d500ccd5588"
          ]
        },
        "id": "XTMUNt4v888s",
        "outputId": "4fd7fd5d-8d2e-4bf4-ac3c-52f74c58cd30"
      },
      "source": [
        "if 'google.colab' in str(get_ipython()):\n",
        "  from google.colab import drive\n",
        "  from tqdm.notebook import tqdm_notebook as tqdm\n",
        "  tqdm().pandas()\n",
        "  drive.mount('/content/drive')"
      ],
      "execution_count": 17,
      "outputs": [
        {
          "output_type": "display_data",
          "data": {
            "application/vnd.jupyter.widget-view+json": {
              "model_id": "598593583a5b4c6693f879334376ae3d",
              "version_minor": 0,
              "version_major": 2
            },
            "text/plain": [
              "HBox(children=(FloatProgress(value=1.0, bar_style='info', max=1.0), HTML(value='')))"
            ]
          },
          "metadata": {
            "tags": []
          }
        },
        {
          "output_type": "stream",
          "text": [
            "Drive already mounted at /content/drive; to attempt to forcibly remount, call drive.mount(\"/content/drive\", force_remount=True).\n"
          ],
          "name": "stdout"
        },
        {
          "output_type": "stream",
          "text": [
            "/usr/local/lib/python3.7/dist-packages/tqdm/std.py:658: FutureWarning: The Panel class is removed from pandas. Accessing it from the top-level namespace will also be removed in the next version\n",
            "  from pandas import Panel\n"
          ],
          "name": "stderr"
        }
      ]
    },
    {
      "cell_type": "code",
      "metadata": {
        "id": "3o6oNNsbQh71"
      },
      "source": [
        "base_path = \"/content/drive/MyDrive/Colab Notebooks/data/\""
      ],
      "execution_count": 18,
      "outputs": []
    },
    {
      "cell_type": "markdown",
      "metadata": {
        "id": "m5-oTBvUPuxd"
      },
      "source": [
        "# Data cleaning"
      ]
    },
    {
      "cell_type": "code",
      "metadata": {
        "colab": {
          "base_uri": "https://localhost:8080/",
          "height": 1000
        },
        "id": "5xglOimN8VaT",
        "outputId": "2cbdc6cf-88d4-4bdb-8dc5-3f5d46924ae7"
      },
      "source": [
        "df = pd.read_csv(base_path+\"metadata.csv\", low_memory=False)\n",
        "df.info(verbose=True)\n",
        "df.head()"
      ],
      "execution_count": 19,
      "outputs": [
        {
          "output_type": "stream",
          "text": [
            "<class 'pandas.core.frame.DataFrame'>\n",
            "RangeIndex: 497906 entries, 0 to 497905\n",
            "Data columns (total 19 columns):\n",
            " #   Column            Non-Null Count   Dtype  \n",
            "---  ------            --------------   -----  \n",
            " 0   cord_uid          497906 non-null  object \n",
            " 1   sha               172105 non-null  object \n",
            " 2   source_x          497906 non-null  object \n",
            " 3   title             497674 non-null  object \n",
            " 4   doi               281753 non-null  object \n",
            " 5   pmcid             182522 non-null  object \n",
            " 6   pubmed_id         241936 non-null  object \n",
            " 7   license           497906 non-null  object \n",
            " 8   abstract          363064 non-null  object \n",
            " 9   publish_time      497687 non-null  object \n",
            " 10  authors           484020 non-null  object \n",
            " 11  journal           464755 non-null  object \n",
            " 12  mag_id            0 non-null       float64\n",
            " 13  who_covidence_id  197568 non-null  object \n",
            " 14  arxiv_id          6687 non-null    object \n",
            " 15  pdf_json_files    172105 non-null  object \n",
            " 16  pmc_json_files    139885 non-null  object \n",
            " 17  url               301950 non-null  object \n",
            " 18  s2_id             448905 non-null  float64\n",
            "dtypes: float64(2), object(17)\n",
            "memory usage: 72.2+ MB\n"
          ],
          "name": "stdout"
        },
        {
          "output_type": "execute_result",
          "data": {
            "text/html": [
              "<div>\n",
              "<style scoped>\n",
              "    .dataframe tbody tr th:only-of-type {\n",
              "        vertical-align: middle;\n",
              "    }\n",
              "\n",
              "    .dataframe tbody tr th {\n",
              "        vertical-align: top;\n",
              "    }\n",
              "\n",
              "    .dataframe thead th {\n",
              "        text-align: right;\n",
              "    }\n",
              "</style>\n",
              "<table border=\"1\" class=\"dataframe\">\n",
              "  <thead>\n",
              "    <tr style=\"text-align: right;\">\n",
              "      <th></th>\n",
              "      <th>cord_uid</th>\n",
              "      <th>sha</th>\n",
              "      <th>source_x</th>\n",
              "      <th>title</th>\n",
              "      <th>doi</th>\n",
              "      <th>pmcid</th>\n",
              "      <th>pubmed_id</th>\n",
              "      <th>license</th>\n",
              "      <th>abstract</th>\n",
              "      <th>publish_time</th>\n",
              "      <th>authors</th>\n",
              "      <th>journal</th>\n",
              "      <th>mag_id</th>\n",
              "      <th>who_covidence_id</th>\n",
              "      <th>arxiv_id</th>\n",
              "      <th>pdf_json_files</th>\n",
              "      <th>pmc_json_files</th>\n",
              "      <th>url</th>\n",
              "      <th>s2_id</th>\n",
              "    </tr>\n",
              "  </thead>\n",
              "  <tbody>\n",
              "    <tr>\n",
              "      <th>0</th>\n",
              "      <td>ug7v899j</td>\n",
              "      <td>d1aafb70c066a2068b02786f8929fd9c900897fb</td>\n",
              "      <td>PMC</td>\n",
              "      <td>Clinical features of culture-proven Mycoplasma...</td>\n",
              "      <td>10.1186/1471-2334-1-6</td>\n",
              "      <td>PMC35282</td>\n",
              "      <td>11472636</td>\n",
              "      <td>no-cc</td>\n",
              "      <td>OBJECTIVE: This retrospective chart review des...</td>\n",
              "      <td>2001-07-04</td>\n",
              "      <td>Madani, Tariq A; Al-Ghamdi, Aisha A</td>\n",
              "      <td>BMC Infect Dis</td>\n",
              "      <td>NaN</td>\n",
              "      <td>NaN</td>\n",
              "      <td>NaN</td>\n",
              "      <td>document_parses/pdf_json/d1aafb70c066a2068b027...</td>\n",
              "      <td>document_parses/pmc_json/PMC35282.xml.json</td>\n",
              "      <td>https://www.ncbi.nlm.nih.gov/pmc/articles/PMC3...</td>\n",
              "      <td>NaN</td>\n",
              "    </tr>\n",
              "    <tr>\n",
              "      <th>1</th>\n",
              "      <td>02tnwd4m</td>\n",
              "      <td>6b0567729c2143a66d737eb0a2f63f2dce2e5a7d</td>\n",
              "      <td>PMC</td>\n",
              "      <td>Nitric oxide: a pro-inflammatory mediator in l...</td>\n",
              "      <td>10.1186/rr14</td>\n",
              "      <td>PMC59543</td>\n",
              "      <td>11667967</td>\n",
              "      <td>no-cc</td>\n",
              "      <td>Inflammatory diseases of the respiratory tract...</td>\n",
              "      <td>2000-08-15</td>\n",
              "      <td>Vliet, Albert van der; Eiserich, Jason P; Cros...</td>\n",
              "      <td>Respir Res</td>\n",
              "      <td>NaN</td>\n",
              "      <td>NaN</td>\n",
              "      <td>NaN</td>\n",
              "      <td>document_parses/pdf_json/6b0567729c2143a66d737...</td>\n",
              "      <td>document_parses/pmc_json/PMC59543.xml.json</td>\n",
              "      <td>https://www.ncbi.nlm.nih.gov/pmc/articles/PMC5...</td>\n",
              "      <td>NaN</td>\n",
              "    </tr>\n",
              "    <tr>\n",
              "      <th>2</th>\n",
              "      <td>ejv2xln0</td>\n",
              "      <td>06ced00a5fc04215949aa72528f2eeaae1d58927</td>\n",
              "      <td>PMC</td>\n",
              "      <td>Surfactant protein-D and pulmonary host defense</td>\n",
              "      <td>10.1186/rr19</td>\n",
              "      <td>PMC59549</td>\n",
              "      <td>11667972</td>\n",
              "      <td>no-cc</td>\n",
              "      <td>Surfactant protein-D (SP-D) participates in th...</td>\n",
              "      <td>2000-08-25</td>\n",
              "      <td>Crouch, Erika C</td>\n",
              "      <td>Respir Res</td>\n",
              "      <td>NaN</td>\n",
              "      <td>NaN</td>\n",
              "      <td>NaN</td>\n",
              "      <td>document_parses/pdf_json/06ced00a5fc04215949aa...</td>\n",
              "      <td>document_parses/pmc_json/PMC59549.xml.json</td>\n",
              "      <td>https://www.ncbi.nlm.nih.gov/pmc/articles/PMC5...</td>\n",
              "      <td>NaN</td>\n",
              "    </tr>\n",
              "    <tr>\n",
              "      <th>3</th>\n",
              "      <td>2b73a28n</td>\n",
              "      <td>348055649b6b8cf2b9a376498df9bf41f7123605</td>\n",
              "      <td>PMC</td>\n",
              "      <td>Role of endothelin-1 in lung disease</td>\n",
              "      <td>10.1186/rr44</td>\n",
              "      <td>PMC59574</td>\n",
              "      <td>11686871</td>\n",
              "      <td>no-cc</td>\n",
              "      <td>Endothelin-1 (ET-1) is a 21 amino acid peptide...</td>\n",
              "      <td>2001-02-22</td>\n",
              "      <td>Fagan, Karen A; McMurtry, Ivan F; Rodman, David M</td>\n",
              "      <td>Respir Res</td>\n",
              "      <td>NaN</td>\n",
              "      <td>NaN</td>\n",
              "      <td>NaN</td>\n",
              "      <td>document_parses/pdf_json/348055649b6b8cf2b9a37...</td>\n",
              "      <td>document_parses/pmc_json/PMC59574.xml.json</td>\n",
              "      <td>https://www.ncbi.nlm.nih.gov/pmc/articles/PMC5...</td>\n",
              "      <td>NaN</td>\n",
              "    </tr>\n",
              "    <tr>\n",
              "      <th>4</th>\n",
              "      <td>9785vg6d</td>\n",
              "      <td>5f48792a5fa08bed9f56016f4981ae2ca6031b32</td>\n",
              "      <td>PMC</td>\n",
              "      <td>Gene expression in epithelial cells in respons...</td>\n",
              "      <td>10.1186/rr61</td>\n",
              "      <td>PMC59580</td>\n",
              "      <td>11686888</td>\n",
              "      <td>no-cc</td>\n",
              "      <td>Respiratory syncytial virus (RSV) and pneumoni...</td>\n",
              "      <td>2001-05-11</td>\n",
              "      <td>Domachowske, Joseph B; Bonville, Cynthia A; Ro...</td>\n",
              "      <td>Respir Res</td>\n",
              "      <td>NaN</td>\n",
              "      <td>NaN</td>\n",
              "      <td>NaN</td>\n",
              "      <td>document_parses/pdf_json/5f48792a5fa08bed9f560...</td>\n",
              "      <td>document_parses/pmc_json/PMC59580.xml.json</td>\n",
              "      <td>https://www.ncbi.nlm.nih.gov/pmc/articles/PMC5...</td>\n",
              "      <td>NaN</td>\n",
              "    </tr>\n",
              "  </tbody>\n",
              "</table>\n",
              "</div>"
            ],
            "text/plain": [
              "   cord_uid  ... s2_id\n",
              "0  ug7v899j  ...   NaN\n",
              "1  02tnwd4m  ...   NaN\n",
              "2  ejv2xln0  ...   NaN\n",
              "3  2b73a28n  ...   NaN\n",
              "4  9785vg6d  ...   NaN\n",
              "\n",
              "[5 rows x 19 columns]"
            ]
          },
          "metadata": {
            "tags": []
          },
          "execution_count": 19
        }
      ]
    },
    {
      "cell_type": "code",
      "metadata": {
        "id": "DQ98z19I8VaT",
        "outputId": "4d3b8c63-e24a-45eb-b13a-477be61a3a35",
        "colab": {
          "base_uri": "https://localhost:8080/",
          "height": 377
        }
      },
      "source": [
        "# load the meta data from the CSV file and extract out fields that will be useful to our application\n",
        "\n",
        "df = df[['title','abstract','authors','publish_time']]\n",
        "df = df.drop_duplicates(subset='abstract', keep=\"first\")\n",
        "df=df.dropna()\n",
        "df[\"abstract\"] = df[\"abstract\"].str.lower()\n",
        "df['publish_time'] = pd.to_datetime(df['publish_time'])"
      ],
      "execution_count": 23,
      "outputs": [
        {
          "output_type": "error",
          "ename": "KeyError",
          "evalue": "ignored",
          "traceback": [
            "\u001b[0;31m---------------------------------------------------------------------------\u001b[0m",
            "\u001b[0;31mKeyError\u001b[0m                                  Traceback (most recent call last)",
            "\u001b[0;32m<ipython-input-23-6fb7e9b17140>\u001b[0m in \u001b[0;36m<module>\u001b[0;34m()\u001b[0m\n\u001b[1;32m      1\u001b[0m \u001b[0;31m# load the meta data from the CSV file and extract out fields that will be useful to our application\u001b[0m\u001b[0;34m\u001b[0m\u001b[0;34m\u001b[0m\u001b[0;34m\u001b[0m\u001b[0m\n\u001b[1;32m      2\u001b[0m \u001b[0;34m\u001b[0m\u001b[0m\n\u001b[0;32m----> 3\u001b[0;31m \u001b[0mdf\u001b[0m \u001b[0;34m=\u001b[0m \u001b[0mdf\u001b[0m\u001b[0;34m[\u001b[0m\u001b[0;34m[\u001b[0m\u001b[0;34m'title'\u001b[0m\u001b[0;34m,\u001b[0m\u001b[0;34m'abstract'\u001b[0m\u001b[0;34m,\u001b[0m\u001b[0;34m'authors'\u001b[0m\u001b[0;34m,\u001b[0m\u001b[0;34m'publish_time'\u001b[0m\u001b[0;34m]\u001b[0m\u001b[0;34m]\u001b[0m\u001b[0;34m\u001b[0m\u001b[0;34m\u001b[0m\u001b[0m\n\u001b[0m\u001b[1;32m      4\u001b[0m \u001b[0mdf\u001b[0m \u001b[0;34m=\u001b[0m \u001b[0mdf\u001b[0m\u001b[0;34m.\u001b[0m\u001b[0mdrop_duplicates\u001b[0m\u001b[0;34m(\u001b[0m\u001b[0msubset\u001b[0m\u001b[0;34m=\u001b[0m\u001b[0;34m'abstract'\u001b[0m\u001b[0;34m,\u001b[0m \u001b[0mkeep\u001b[0m\u001b[0;34m=\u001b[0m\u001b[0;34m\"first\"\u001b[0m\u001b[0;34m)\u001b[0m\u001b[0;34m\u001b[0m\u001b[0;34m\u001b[0m\u001b[0m\n\u001b[1;32m      5\u001b[0m \u001b[0mdf\u001b[0m\u001b[0;34m=\u001b[0m\u001b[0mdf\u001b[0m\u001b[0;34m.\u001b[0m\u001b[0mdropna\u001b[0m\u001b[0;34m(\u001b[0m\u001b[0;34m)\u001b[0m\u001b[0;34m\u001b[0m\u001b[0;34m\u001b[0m\u001b[0m\n",
            "\u001b[0;32m/usr/local/lib/python3.7/dist-packages/pandas/core/frame.py\u001b[0m in \u001b[0;36m__getitem__\u001b[0;34m(self, key)\u001b[0m\n\u001b[1;32m   2910\u001b[0m             \u001b[0;32mif\u001b[0m \u001b[0mis_iterator\u001b[0m\u001b[0;34m(\u001b[0m\u001b[0mkey\u001b[0m\u001b[0;34m)\u001b[0m\u001b[0;34m:\u001b[0m\u001b[0;34m\u001b[0m\u001b[0;34m\u001b[0m\u001b[0m\n\u001b[1;32m   2911\u001b[0m                 \u001b[0mkey\u001b[0m \u001b[0;34m=\u001b[0m \u001b[0mlist\u001b[0m\u001b[0;34m(\u001b[0m\u001b[0mkey\u001b[0m\u001b[0;34m)\u001b[0m\u001b[0;34m\u001b[0m\u001b[0;34m\u001b[0m\u001b[0m\n\u001b[0;32m-> 2912\u001b[0;31m             \u001b[0mindexer\u001b[0m \u001b[0;34m=\u001b[0m \u001b[0mself\u001b[0m\u001b[0;34m.\u001b[0m\u001b[0mloc\u001b[0m\u001b[0;34m.\u001b[0m\u001b[0m_get_listlike_indexer\u001b[0m\u001b[0;34m(\u001b[0m\u001b[0mkey\u001b[0m\u001b[0;34m,\u001b[0m \u001b[0maxis\u001b[0m\u001b[0;34m=\u001b[0m\u001b[0;36m1\u001b[0m\u001b[0;34m,\u001b[0m \u001b[0mraise_missing\u001b[0m\u001b[0;34m=\u001b[0m\u001b[0;32mTrue\u001b[0m\u001b[0;34m)\u001b[0m\u001b[0;34m[\u001b[0m\u001b[0;36m1\u001b[0m\u001b[0;34m]\u001b[0m\u001b[0;34m\u001b[0m\u001b[0;34m\u001b[0m\u001b[0m\n\u001b[0m\u001b[1;32m   2913\u001b[0m \u001b[0;34m\u001b[0m\u001b[0m\n\u001b[1;32m   2914\u001b[0m         \u001b[0;31m# take() does not accept boolean indexers\u001b[0m\u001b[0;34m\u001b[0m\u001b[0;34m\u001b[0m\u001b[0;34m\u001b[0m\u001b[0m\n",
            "\u001b[0;32m/usr/local/lib/python3.7/dist-packages/pandas/core/indexing.py\u001b[0m in \u001b[0;36m_get_listlike_indexer\u001b[0;34m(self, key, axis, raise_missing)\u001b[0m\n\u001b[1;32m   1252\u001b[0m             \u001b[0mkeyarr\u001b[0m\u001b[0;34m,\u001b[0m \u001b[0mindexer\u001b[0m\u001b[0;34m,\u001b[0m \u001b[0mnew_indexer\u001b[0m \u001b[0;34m=\u001b[0m \u001b[0max\u001b[0m\u001b[0;34m.\u001b[0m\u001b[0m_reindex_non_unique\u001b[0m\u001b[0;34m(\u001b[0m\u001b[0mkeyarr\u001b[0m\u001b[0;34m)\u001b[0m\u001b[0;34m\u001b[0m\u001b[0;34m\u001b[0m\u001b[0m\n\u001b[1;32m   1253\u001b[0m \u001b[0;34m\u001b[0m\u001b[0m\n\u001b[0;32m-> 1254\u001b[0;31m         \u001b[0mself\u001b[0m\u001b[0;34m.\u001b[0m\u001b[0m_validate_read_indexer\u001b[0m\u001b[0;34m(\u001b[0m\u001b[0mkeyarr\u001b[0m\u001b[0;34m,\u001b[0m \u001b[0mindexer\u001b[0m\u001b[0;34m,\u001b[0m \u001b[0maxis\u001b[0m\u001b[0;34m,\u001b[0m \u001b[0mraise_missing\u001b[0m\u001b[0;34m=\u001b[0m\u001b[0mraise_missing\u001b[0m\u001b[0;34m)\u001b[0m\u001b[0;34m\u001b[0m\u001b[0;34m\u001b[0m\u001b[0m\n\u001b[0m\u001b[1;32m   1255\u001b[0m         \u001b[0;32mreturn\u001b[0m \u001b[0mkeyarr\u001b[0m\u001b[0;34m,\u001b[0m \u001b[0mindexer\u001b[0m\u001b[0;34m\u001b[0m\u001b[0;34m\u001b[0m\u001b[0m\n\u001b[1;32m   1256\u001b[0m \u001b[0;34m\u001b[0m\u001b[0m\n",
            "\u001b[0;32m/usr/local/lib/python3.7/dist-packages/pandas/core/indexing.py\u001b[0m in \u001b[0;36m_validate_read_indexer\u001b[0;34m(self, key, indexer, axis, raise_missing)\u001b[0m\n\u001b[1;32m   1302\u001b[0m             \u001b[0;32mif\u001b[0m \u001b[0mraise_missing\u001b[0m\u001b[0;34m:\u001b[0m\u001b[0;34m\u001b[0m\u001b[0;34m\u001b[0m\u001b[0m\n\u001b[1;32m   1303\u001b[0m                 \u001b[0mnot_found\u001b[0m \u001b[0;34m=\u001b[0m \u001b[0mlist\u001b[0m\u001b[0;34m(\u001b[0m\u001b[0mset\u001b[0m\u001b[0;34m(\u001b[0m\u001b[0mkey\u001b[0m\u001b[0;34m)\u001b[0m \u001b[0;34m-\u001b[0m \u001b[0mset\u001b[0m\u001b[0;34m(\u001b[0m\u001b[0max\u001b[0m\u001b[0;34m)\u001b[0m\u001b[0;34m)\u001b[0m\u001b[0;34m\u001b[0m\u001b[0;34m\u001b[0m\u001b[0m\n\u001b[0;32m-> 1304\u001b[0;31m                 \u001b[0;32mraise\u001b[0m \u001b[0mKeyError\u001b[0m\u001b[0;34m(\u001b[0m\u001b[0;34mf\"{not_found} not in index\"\u001b[0m\u001b[0;34m)\u001b[0m\u001b[0;34m\u001b[0m\u001b[0;34m\u001b[0m\u001b[0m\n\u001b[0m\u001b[1;32m   1305\u001b[0m \u001b[0;34m\u001b[0m\u001b[0m\n\u001b[1;32m   1306\u001b[0m             \u001b[0;31m# we skip the warning on Categorical\u001b[0m\u001b[0;34m\u001b[0m\u001b[0;34m\u001b[0m\u001b[0;34m\u001b[0m\u001b[0m\n",
            "\u001b[0;31mKeyError\u001b[0m: \"['authors', 'publish_time'] not in index\""
          ]
        }
      ]
    },
    {
      "cell_type": "code",
      "metadata": {
        "id": "U9OSY_MEoRxR",
        "colab": {
          "base_uri": "https://localhost:8080/"
        },
        "outputId": "a474e2f6-030f-421b-b33c-18332bcaee26"
      },
      "source": [
        "df.shape"
      ],
      "execution_count": 21,
      "outputs": [
        {
          "output_type": "execute_result",
          "data": {
            "text/plain": [
              "(129900, 3)"
            ]
          },
          "metadata": {
            "tags": []
          },
          "execution_count": 21
        }
      ]
    },
    {
      "cell_type": "code",
      "metadata": {
        "id": "RH3h_dDHorbo",
        "colab": {
          "base_uri": "https://localhost:8080/",
          "height": 203
        },
        "outputId": "cdacccbe-1425-466a-f78c-8117041b83ce"
      },
      "source": [
        "df.head()"
      ],
      "execution_count": 22,
      "outputs": [
        {
          "output_type": "execute_result",
          "data": {
            "text/html": [
              "<div>\n",
              "<style scoped>\n",
              "    .dataframe tbody tr th:only-of-type {\n",
              "        vertical-align: middle;\n",
              "    }\n",
              "\n",
              "    .dataframe tbody tr th {\n",
              "        vertical-align: top;\n",
              "    }\n",
              "\n",
              "    .dataframe thead th {\n",
              "        text-align: right;\n",
              "    }\n",
              "</style>\n",
              "<table border=\"1\" class=\"dataframe\">\n",
              "  <thead>\n",
              "    <tr style=\"text-align: right;\">\n",
              "      <th></th>\n",
              "      <th>title</th>\n",
              "      <th>abstract</th>\n",
              "      <th>sha</th>\n",
              "    </tr>\n",
              "  </thead>\n",
              "  <tbody>\n",
              "    <tr>\n",
              "      <th>0</th>\n",
              "      <td>Clinical features of culture-proven Mycoplasma...</td>\n",
              "      <td>objective: this retrospective chart review des...</td>\n",
              "      <td>d1aafb70c066a2068b02786f8929fd9c900897fb</td>\n",
              "    </tr>\n",
              "    <tr>\n",
              "      <th>1</th>\n",
              "      <td>Nitric oxide: a pro-inflammatory mediator in l...</td>\n",
              "      <td>inflammatory diseases of the respiratory tract...</td>\n",
              "      <td>6b0567729c2143a66d737eb0a2f63f2dce2e5a7d</td>\n",
              "    </tr>\n",
              "    <tr>\n",
              "      <th>2</th>\n",
              "      <td>Surfactant protein-D and pulmonary host defense</td>\n",
              "      <td>surfactant protein-d (sp-d) participates in th...</td>\n",
              "      <td>06ced00a5fc04215949aa72528f2eeaae1d58927</td>\n",
              "    </tr>\n",
              "    <tr>\n",
              "      <th>3</th>\n",
              "      <td>Role of endothelin-1 in lung disease</td>\n",
              "      <td>endothelin-1 (et-1) is a 21 amino acid peptide...</td>\n",
              "      <td>348055649b6b8cf2b9a376498df9bf41f7123605</td>\n",
              "    </tr>\n",
              "    <tr>\n",
              "      <th>4</th>\n",
              "      <td>Gene expression in epithelial cells in respons...</td>\n",
              "      <td>respiratory syncytial virus (rsv) and pneumoni...</td>\n",
              "      <td>5f48792a5fa08bed9f56016f4981ae2ca6031b32</td>\n",
              "    </tr>\n",
              "  </tbody>\n",
              "</table>\n",
              "</div>"
            ],
            "text/plain": [
              "                                               title  ...                                       sha\n",
              "0  Clinical features of culture-proven Mycoplasma...  ...  d1aafb70c066a2068b02786f8929fd9c900897fb\n",
              "1  Nitric oxide: a pro-inflammatory mediator in l...  ...  6b0567729c2143a66d737eb0a2f63f2dce2e5a7d\n",
              "2    Surfactant protein-D and pulmonary host defense  ...  06ced00a5fc04215949aa72528f2eeaae1d58927\n",
              "3               Role of endothelin-1 in lung disease  ...  348055649b6b8cf2b9a376498df9bf41f7123605\n",
              "4  Gene expression in epithelial cells in respons...  ...  5f48792a5fa08bed9f56016f4981ae2ca6031b32\n",
              "\n",
              "[5 rows x 3 columns]"
            ]
          },
          "metadata": {
            "tags": []
          },
          "execution_count": 22
        }
      ]
    },
    {
      "cell_type": "code",
      "metadata": {
        "id": "-1P8sIX3pwUD"
      },
      "source": [
        "from bs4 import BeautifulSoup\n",
        "import html\n",
        "import re\n",
        "stopwords= set(['br', 'the', 'i', 'me', 'my', 'myself', 'we', 'our', 'ours', 'ourselves', 'you', \\\n",
        "                \"you're\", \"you've\", \"you'll\", \"you'd\", 'your', 'yours', 'yourself', 'yourselves', \\\n",
        "                'he', 'him', 'his', 'himself', 'she', \"she's\", 'her', 'hers', 'herself', 'it', \"it's\", \\\n",
        "                'its', 'itself', 'they', 'them', 'their', 'theirs', 'themselves', 'what', 'which', 'who', \\\n",
        "                'whom', 'this', 'that', \"that'll\", 'these', 'those', 'am', 'is', 'are', 'was', 'were', \\\n",
        "                'be', 'been', 'being', 'have', 'has', 'had', 'having', 'do', 'does', 'did', 'doing', \\\n",
        "                'a', 'an', 'the', 'and', 'but', 'if', 'or', 'because', 'as', 'until', 'while', 'of', \\\n",
        "                'at', 'by', 'for', 'with', 'about', 'against', 'between', 'into', 'through', 'during', \\\n",
        "                'before', 'after', 'above', 'below', 'to', 'from', 'up', 'down', 'in', 'out', 'on', 'off', \\\n",
        "                'over', 'under', 'again', 'further', 'then', 'once', 'here', 'there', 'when', 'where', 'why', \\\n",
        "                'how', 'all', 'any', 'both', 'each', 'few', 'more', 'most', 'other', 'some', 'such', 'only', \\\n",
        "                'own', 'same', 'so', 'than', 'too', 'very', 's', 't', 'can', 'will', 'just', 'don', \"don't\", \\\n",
        "                'should', \"should've\", 'now', 'd', 'll', 'm', 'o', 're', 've', 'y', 'ain', 'aren', \"aren't\", \\\n",
        "                'couldn', \"couldn't\", 'didn', \"didn't\", 'doesn', \"doesn't\", 'hadn', \"hadn't\", 'hasn', \\\n",
        "                \"hasn't\", 'haven', \"haven't\", 'isn', \"isn't\", 'ma', 'mightn', \"mightn't\", 'mustn', \\\n",
        "                \"mustn't\", 'needn', \"needn't\", 'shan', \"shan't\", 'shouldn', \"shouldn't\", 'wasn', \"wasn't\", \\\n",
        "                'weren', \"weren't\", 'won', \"won't\", 'wouldn', \"wouldn't\"])\n",
        "\n",
        "# ref: https://gist.github.com/sebleier/554280\n",
        "# above stop words were used to remove any words that are not useful/influential for sentiment analysis/prediction. The above list/set is not conclusive by any means but it contains enough to simplify our model inputs\n",
        "\n",
        "# data cleaning function that ensures that unnecssary elements are exluded from the journey of predicting sentiments. In the process, hashtags and mentions are removed, which could have been useful in a simpler stratefy implemented in exploratory analysis \n",
        "def clean_text(text):\n",
        "  soup = BeautifulSoup(text, 'lxml') \n",
        "  text = soup.get_text() # gets rid of html tags  \n",
        "  t = re.sub('^', '', text) #gets rid of the attribute '^' by replacing with space\n",
        "  t = re.sub('[+]', '', t) # gets rid of the attribute '+' \n",
        "  t = re.sub('[/]', '', t) # gets rid of the attrubute '/'\n",
        "  t = re.sub('[<>]', '', t) # gets rid of the attributes '<>'\n",
        "  t = re.sub('[^A-Za-z0-9]+', ' ', t) # gets rid of any special charachters like #, @, -, etc. This is to make sure data is in its basic elements to ease the classification of tweet's political party in the next step \n",
        "  t = html.unescape(t) # replaces HTML charachter codes with ASCII equivalent\n",
        "  t = re.sub(r\"http\\S+\", \"\", t) # removes URL links\n",
        "  t = t.lower() # normalizes the tweets to be all as lower case\n",
        "  t = ' '.join(e.lower() for e in t.split() if e.lower() not in stopwords) # removes stopwords that are in the set defined above and replaces it with space\n",
        "  return t"
      ],
      "execution_count": 9,
      "outputs": []
    },
    {
      "cell_type": "code",
      "metadata": {
        "id": "qe8Gl4nTqDb1"
      },
      "source": [
        "def clean_df(data):\n",
        "  data['cleaned_title'] = data['title'].progress_apply(clean_text)\n",
        "  data['cleaned_abstract'] = data['abstract'].progress_apply(clean_text)\n",
        "  data['cleaned_authors'] = data['authors'].progress_apply(clean_text)\n",
        "# clean_df(df)"
      ],
      "execution_count": 10,
      "outputs": []
    },
    {
      "cell_type": "code",
      "metadata": {
        "id": "gTpvQZReuw6L"
      },
      "source": [
        "def categorize_time(data):\n",
        "  data['publish_year'] = data['publish_time'].dt.year\n",
        "  data['publish_month'] = data['publish_time'].dt.month\n",
        "  data['publish_date'] = data['publish_time'].dt.day\n",
        "# categorize_time(df)"
      ],
      "execution_count": 11,
      "outputs": []
    },
    {
      "cell_type": "code",
      "metadata": {
        "id": "_4cXROldvTxF"
      },
      "source": [
        "# df.to_csv(base_path + \"preproced_metadata.csv\")"
      ],
      "execution_count": 12,
      "outputs": []
    },
    {
      "cell_type": "markdown",
      "metadata": {
        "id": "pdKepwSBXSJw"
      },
      "source": [
        "# Data visualization"
      ]
    },
    {
      "cell_type": "code",
      "metadata": {
        "id": "a46CedQkXfXP"
      },
      "source": [
        "proced_df = pd.read_csv(base_path + \"preproced_metadata.csv\", low_memory=False)"
      ],
      "execution_count": 13,
      "outputs": []
    },
    {
      "cell_type": "code",
      "metadata": {
        "id": "HdTVi6kaXrAI",
        "outputId": "2f8f69d4-3e65-4541-fbad-809c2f6d0131",
        "colab": {
          "base_uri": "https://localhost:8080/",
          "height": 306
        }
      },
      "source": [
        "proced_df.head()"
      ],
      "execution_count": 14,
      "outputs": [
        {
          "output_type": "execute_result",
          "data": {
            "text/html": [
              "<div>\n",
              "<style scoped>\n",
              "    .dataframe tbody tr th:only-of-type {\n",
              "        vertical-align: middle;\n",
              "    }\n",
              "\n",
              "    .dataframe tbody tr th {\n",
              "        vertical-align: top;\n",
              "    }\n",
              "\n",
              "    .dataframe thead th {\n",
              "        text-align: right;\n",
              "    }\n",
              "</style>\n",
              "<table border=\"1\" class=\"dataframe\">\n",
              "  <thead>\n",
              "    <tr style=\"text-align: right;\">\n",
              "      <th></th>\n",
              "      <th>Unnamed: 0</th>\n",
              "      <th>title</th>\n",
              "      <th>abstract</th>\n",
              "      <th>authors</th>\n",
              "      <th>publish_time</th>\n",
              "      <th>cleaned_title</th>\n",
              "      <th>cleaned_abstract</th>\n",
              "      <th>cleaned_authors</th>\n",
              "      <th>publish_year</th>\n",
              "      <th>publish_month</th>\n",
              "      <th>publish_date</th>\n",
              "    </tr>\n",
              "  </thead>\n",
              "  <tbody>\n",
              "    <tr>\n",
              "      <th>0</th>\n",
              "      <td>0</td>\n",
              "      <td>Clinical features of culture-proven Mycoplasma...</td>\n",
              "      <td>objective: this retrospective chart review des...</td>\n",
              "      <td>Madani, Tariq A; Al-Ghamdi, Aisha A</td>\n",
              "      <td>2001-07-04</td>\n",
              "      <td>clinical features culture proven mycoplasma pn...</td>\n",
              "      <td>objective retrospective chart review describes...</td>\n",
              "      <td>madani tariq al ghamdi aisha</td>\n",
              "      <td>2001</td>\n",
              "      <td>7</td>\n",
              "      <td>4</td>\n",
              "    </tr>\n",
              "    <tr>\n",
              "      <th>1</th>\n",
              "      <td>1</td>\n",
              "      <td>Nitric oxide: a pro-inflammatory mediator in l...</td>\n",
              "      <td>inflammatory diseases of the respiratory tract...</td>\n",
              "      <td>Vliet, Albert van der; Eiserich, Jason P; Cros...</td>\n",
              "      <td>2000-08-15</td>\n",
              "      <td>nitric oxide pro inflammatory mediator lung di...</td>\n",
              "      <td>inflammatory diseases respiratory tract common...</td>\n",
              "      <td>vliet albert van der eiserich jason p cross ca...</td>\n",
              "      <td>2000</td>\n",
              "      <td>8</td>\n",
              "      <td>15</td>\n",
              "    </tr>\n",
              "    <tr>\n",
              "      <th>2</th>\n",
              "      <td>2</td>\n",
              "      <td>Surfactant protein-D and pulmonary host defense</td>\n",
              "      <td>surfactant protein-d (sp-d) participates in th...</td>\n",
              "      <td>Crouch, Erika C</td>\n",
              "      <td>2000-08-25</td>\n",
              "      <td>surfactant protein pulmonary host defense</td>\n",
              "      <td>surfactant protein sp participates innate resp...</td>\n",
              "      <td>crouch erika c</td>\n",
              "      <td>2000</td>\n",
              "      <td>8</td>\n",
              "      <td>25</td>\n",
              "    </tr>\n",
              "    <tr>\n",
              "      <th>3</th>\n",
              "      <td>3</td>\n",
              "      <td>Role of endothelin-1 in lung disease</td>\n",
              "      <td>endothelin-1 (et-1) is a 21 amino acid peptide...</td>\n",
              "      <td>Fagan, Karen A; McMurtry, Ivan F; Rodman, David M</td>\n",
              "      <td>2001-02-22</td>\n",
              "      <td>role endothelin 1 lung disease</td>\n",
              "      <td>endothelin 1 et 1 21 amino acid peptide divers...</td>\n",
              "      <td>fagan karen mcmurtry ivan f rodman david</td>\n",
              "      <td>2001</td>\n",
              "      <td>2</td>\n",
              "      <td>22</td>\n",
              "    </tr>\n",
              "    <tr>\n",
              "      <th>4</th>\n",
              "      <td>4</td>\n",
              "      <td>Gene expression in epithelial cells in respons...</td>\n",
              "      <td>respiratory syncytial virus (rsv) and pneumoni...</td>\n",
              "      <td>Domachowske, Joseph B; Bonville, Cynthia A; Ro...</td>\n",
              "      <td>2001-05-11</td>\n",
              "      <td>gene expression epithelial cells response pneu...</td>\n",
              "      <td>respiratory syncytial virus rsv pneumonia viru...</td>\n",
              "      <td>domachowske joseph b bonville cynthia rosenber...</td>\n",
              "      <td>2001</td>\n",
              "      <td>5</td>\n",
              "      <td>11</td>\n",
              "    </tr>\n",
              "  </tbody>\n",
              "</table>\n",
              "</div>"
            ],
            "text/plain": [
              "   Unnamed: 0  ... publish_date\n",
              "0           0  ...            4\n",
              "1           1  ...           15\n",
              "2           2  ...           25\n",
              "3           3  ...           22\n",
              "4           4  ...           11\n",
              "\n",
              "[5 rows x 11 columns]"
            ]
          },
          "metadata": {
            "tags": []
          },
          "execution_count": 14
        }
      ]
    },
    {
      "cell_type": "markdown",
      "metadata": {
        "id": "SBp92Zr-1OeY"
      },
      "source": [
        "## publish year distribution"
      ]
    },
    {
      "cell_type": "code",
      "metadata": {
        "id": "qYtxs5KgZAOc"
      },
      "source": [
        "proced_df['publish_year'].plot.hist()\n",
        "plt.xlabel('Publish year')  \n",
        "plt.ylabel('Counts')\n",
        "plt.title('Publish year distribution')\n",
        "plt.show()"
      ],
      "execution_count": null,
      "outputs": []
    },
    {
      "cell_type": "markdown",
      "metadata": {
        "id": "uA8li4_aD8Y8"
      },
      "source": [
        "## Plot word frequency for abstract"
      ]
    },
    {
      "cell_type": "code",
      "metadata": {
        "id": "SrqrIqwX-IJT"
      },
      "source": [
        "import nltk\n",
        "nltk.download('punkt')"
      ],
      "execution_count": null,
      "outputs": []
    },
    {
      "cell_type": "code",
      "metadata": {
        "id": "Gb7SIkSh-Szn"
      },
      "source": [
        "def get_word_freq(data, top_N=20):\n",
        "  preproced_data = data.str.cat(sep=' ')\n",
        "  words = nltk.tokenize.word_tokenize(preproced_data)\n",
        "  words_selected = [i for i in words if len(i) > 2]\n",
        "  words_dist = nltk.FreqDist(words_selected)\n",
        "  words_freq = pd.DataFrame(words_dist.most_common(top_N),\n",
        "                      columns=['Word', 'Frequency'])\n",
        "  return words_freq"
      ],
      "execution_count": null,
      "outputs": []
    },
    {
      "cell_type": "code",
      "metadata": {
        "id": "2ehTm6AE-03E"
      },
      "source": [
        "abstract_words_freq = get_word_freq(proced_df['cleaned_abstract'], top_N=20)"
      ],
      "execution_count": null,
      "outputs": []
    },
    {
      "cell_type": "code",
      "metadata": {
        "id": "v92Ohp6oBQlR"
      },
      "source": [
        "abstract_words_freq"
      ],
      "execution_count": null,
      "outputs": []
    },
    {
      "cell_type": "code",
      "metadata": {
        "id": "eE3RjMotCmln"
      },
      "source": [
        "abstract_words_freq.plot(x='Word', y='Frequency', kind='bar')"
      ],
      "execution_count": null,
      "outputs": []
    },
    {
      "cell_type": "markdown",
      "metadata": {
        "id": "KFufBmuGEBbI"
      },
      "source": [
        "## Plot word frequency for title"
      ]
    },
    {
      "cell_type": "code",
      "metadata": {
        "id": "_ecnaaUJEHJm"
      },
      "source": [
        "title_words_freq = get_word_freq(proced_df['cleaned_title'], top_N=20)"
      ],
      "execution_count": null,
      "outputs": []
    },
    {
      "cell_type": "code",
      "metadata": {
        "id": "091WCwe1ETTw"
      },
      "source": [
        "title_words_freq"
      ],
      "execution_count": null,
      "outputs": []
    },
    {
      "cell_type": "code",
      "metadata": {
        "id": "tuTwI_waEUd8"
      },
      "source": [
        "title_words_freq.plot(x='Word', y='Frequency', kind='bar')"
      ],
      "execution_count": null,
      "outputs": []
    },
    {
      "cell_type": "markdown",
      "metadata": {
        "id": "FFRNZZjgEbu3"
      },
      "source": [
        "## Plot word frequency for author"
      ]
    },
    {
      "cell_type": "code",
      "metadata": {
        "id": "ch10kkrUEhCi"
      },
      "source": [
        "author_words_freq = get_word_freq(proced_df['cleaned_authors'], top_N=20)"
      ],
      "execution_count": null,
      "outputs": []
    },
    {
      "cell_type": "code",
      "metadata": {
        "id": "487O2uUM2Y1p"
      },
      "source": [
        "author_words_freq"
      ],
      "execution_count": null,
      "outputs": []
    },
    {
      "cell_type": "code",
      "metadata": {
        "id": "2SVlyBt6EvIS"
      },
      "source": [
        "author_words_freq.plot(x='Word', y='Frequency', kind='bar')"
      ],
      "execution_count": null,
      "outputs": []
    },
    {
      "cell_type": "markdown",
      "metadata": {
        "id": "hkUCPc0oFOn3"
      },
      "source": [
        "# Model selection and fitting to the data"
      ]
    },
    {
      "cell_type": "code",
      "metadata": {
        "id": "cJGtczTiGG0i"
      },
      "source": [
        ""
      ],
      "execution_count": null,
      "outputs": []
    }
  ]
}