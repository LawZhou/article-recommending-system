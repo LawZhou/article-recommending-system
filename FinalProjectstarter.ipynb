{
  "nbformat": 4,
  "nbformat_minor": 0,
  "metadata": {
    "kernelspec": {
      "display_name": "Python 3",
      "language": "python",
      "name": "python3"
    },
    "language_info": {
      "codemirror_mode": {
        "name": "ipython",
        "version": 3
      },
      "file_extension": ".py",
      "mimetype": "text/x-python",
      "name": "python",
      "nbconvert_exporter": "python",
      "pygments_lexer": "ipython3",
      "version": "3.6.7"
    },
    "colab": {
      "name": "FinalProjectstarter.ipynb",
      "provenance": [],
      "machine_shape": "hm"
    },
    "widgets": {
      "application/vnd.jupyter.widget-state+json": {
        "bcaa7ce19ece4031a7c20e8cb1b0659e": {
          "model_module": "@jupyter-widgets/controls",
          "model_name": "HBoxModel",
          "state": {
            "_view_name": "HBoxView",
            "_dom_classes": [],
            "_model_name": "HBoxModel",
            "_view_module": "@jupyter-widgets/controls",
            "_model_module_version": "1.5.0",
            "_view_count": null,
            "_view_module_version": "1.5.0",
            "box_style": "",
            "layout": "IPY_MODEL_f5c4089e741041069751eb21f216acca",
            "_model_module": "@jupyter-widgets/controls",
            "children": [
              "IPY_MODEL_85ba1a2ee09444c1a1f9018adc7b8126",
              "IPY_MODEL_c96fd2a68480408798470933c573e6cd"
            ]
          }
        },
        "f5c4089e741041069751eb21f216acca": {
          "model_module": "@jupyter-widgets/base",
          "model_name": "LayoutModel",
          "state": {
            "_view_name": "LayoutView",
            "grid_template_rows": null,
            "right": null,
            "justify_content": null,
            "_view_module": "@jupyter-widgets/base",
            "overflow": null,
            "_model_module_version": "1.2.0",
            "_view_count": null,
            "flex_flow": null,
            "width": null,
            "min_width": null,
            "border": null,
            "align_items": null,
            "bottom": null,
            "_model_module": "@jupyter-widgets/base",
            "top": null,
            "grid_column": null,
            "overflow_y": null,
            "overflow_x": null,
            "grid_auto_flow": null,
            "grid_area": null,
            "grid_template_columns": null,
            "flex": null,
            "_model_name": "LayoutModel",
            "justify_items": null,
            "grid_row": null,
            "max_height": null,
            "align_content": null,
            "visibility": null,
            "align_self": null,
            "height": null,
            "min_height": null,
            "padding": null,
            "grid_auto_rows": null,
            "grid_gap": null,
            "max_width": null,
            "order": null,
            "_view_module_version": "1.2.0",
            "grid_template_areas": null,
            "object_position": null,
            "object_fit": null,
            "grid_auto_columns": null,
            "margin": null,
            "display": null,
            "left": null
          }
        },
        "85ba1a2ee09444c1a1f9018adc7b8126": {
          "model_module": "@jupyter-widgets/controls",
          "model_name": "FloatProgressModel",
          "state": {
            "_view_name": "ProgressView",
            "style": "IPY_MODEL_bdad7dc70215465aaffe649e026e9f22",
            "_dom_classes": [],
            "description": "100%",
            "_model_name": "FloatProgressModel",
            "bar_style": "success",
            "max": 107785,
            "_view_module": "@jupyter-widgets/controls",
            "_model_module_version": "1.5.0",
            "value": 107785,
            "_view_count": null,
            "_view_module_version": "1.5.0",
            "orientation": "horizontal",
            "min": 0,
            "description_tooltip": null,
            "_model_module": "@jupyter-widgets/controls",
            "layout": "IPY_MODEL_5ef48368378a421db9164101242a447d"
          }
        },
        "c96fd2a68480408798470933c573e6cd": {
          "model_module": "@jupyter-widgets/controls",
          "model_name": "HTMLModel",
          "state": {
            "_view_name": "HTMLView",
            "style": "IPY_MODEL_a607bc93d95c40bd9e0f225160ec4e57",
            "_dom_classes": [],
            "description": "",
            "_model_name": "HTMLModel",
            "placeholder": "​",
            "_view_module": "@jupyter-widgets/controls",
            "_model_module_version": "1.5.0",
            "value": " 107785/107785 [11:12&lt;00:00, 160.18it/s]",
            "_view_count": null,
            "_view_module_version": "1.5.0",
            "description_tooltip": null,
            "_model_module": "@jupyter-widgets/controls",
            "layout": "IPY_MODEL_fe936a77db384f239b19a48849447472"
          }
        },
        "bdad7dc70215465aaffe649e026e9f22": {
          "model_module": "@jupyter-widgets/controls",
          "model_name": "ProgressStyleModel",
          "state": {
            "_view_name": "StyleView",
            "_model_name": "ProgressStyleModel",
            "description_width": "initial",
            "_view_module": "@jupyter-widgets/base",
            "_model_module_version": "1.5.0",
            "_view_count": null,
            "_view_module_version": "1.2.0",
            "bar_color": null,
            "_model_module": "@jupyter-widgets/controls"
          }
        },
        "5ef48368378a421db9164101242a447d": {
          "model_module": "@jupyter-widgets/base",
          "model_name": "LayoutModel",
          "state": {
            "_view_name": "LayoutView",
            "grid_template_rows": null,
            "right": null,
            "justify_content": null,
            "_view_module": "@jupyter-widgets/base",
            "overflow": null,
            "_model_module_version": "1.2.0",
            "_view_count": null,
            "flex_flow": null,
            "width": null,
            "min_width": null,
            "border": null,
            "align_items": null,
            "bottom": null,
            "_model_module": "@jupyter-widgets/base",
            "top": null,
            "grid_column": null,
            "overflow_y": null,
            "overflow_x": null,
            "grid_auto_flow": null,
            "grid_area": null,
            "grid_template_columns": null,
            "flex": null,
            "_model_name": "LayoutModel",
            "justify_items": null,
            "grid_row": null,
            "max_height": null,
            "align_content": null,
            "visibility": null,
            "align_self": null,
            "height": null,
            "min_height": null,
            "padding": null,
            "grid_auto_rows": null,
            "grid_gap": null,
            "max_width": null,
            "order": null,
            "_view_module_version": "1.2.0",
            "grid_template_areas": null,
            "object_position": null,
            "object_fit": null,
            "grid_auto_columns": null,
            "margin": null,
            "display": null,
            "left": null
          }
        },
        "a607bc93d95c40bd9e0f225160ec4e57": {
          "model_module": "@jupyter-widgets/controls",
          "model_name": "DescriptionStyleModel",
          "state": {
            "_view_name": "StyleView",
            "_model_name": "DescriptionStyleModel",
            "description_width": "",
            "_view_module": "@jupyter-widgets/base",
            "_model_module_version": "1.5.0",
            "_view_count": null,
            "_view_module_version": "1.2.0",
            "_model_module": "@jupyter-widgets/controls"
          }
        },
        "fe936a77db384f239b19a48849447472": {
          "model_module": "@jupyter-widgets/base",
          "model_name": "LayoutModel",
          "state": {
            "_view_name": "LayoutView",
            "grid_template_rows": null,
            "right": null,
            "justify_content": null,
            "_view_module": "@jupyter-widgets/base",
            "overflow": null,
            "_model_module_version": "1.2.0",
            "_view_count": null,
            "flex_flow": null,
            "width": null,
            "min_width": null,
            "border": null,
            "align_items": null,
            "bottom": null,
            "_model_module": "@jupyter-widgets/base",
            "top": null,
            "grid_column": null,
            "overflow_y": null,
            "overflow_x": null,
            "grid_auto_flow": null,
            "grid_area": null,
            "grid_template_columns": null,
            "flex": null,
            "_model_name": "LayoutModel",
            "justify_items": null,
            "grid_row": null,
            "max_height": null,
            "align_content": null,
            "visibility": null,
            "align_self": null,
            "height": null,
            "min_height": null,
            "padding": null,
            "grid_auto_rows": null,
            "grid_gap": null,
            "max_width": null,
            "order": null,
            "_view_module_version": "1.2.0",
            "grid_template_areas": null,
            "object_position": null,
            "object_fit": null,
            "grid_auto_columns": null,
            "margin": null,
            "display": null,
            "left": null
          }
        },
        "928ffea2337e446ba8264ea9204ac633": {
          "model_module": "@jupyter-widgets/controls",
          "model_name": "HBoxModel",
          "state": {
            "_view_name": "HBoxView",
            "_dom_classes": [],
            "_model_name": "HBoxModel",
            "_view_module": "@jupyter-widgets/controls",
            "_model_module_version": "1.5.0",
            "_view_count": null,
            "_view_module_version": "1.5.0",
            "box_style": "",
            "layout": "IPY_MODEL_c97afced37494df78e57e0147774cd62",
            "_model_module": "@jupyter-widgets/controls",
            "children": [
              "IPY_MODEL_88b159c85f764c7aa326e0047c6fa4df",
              "IPY_MODEL_a25b73df36c549c8ad5f041e2a2abf82"
            ]
          }
        },
        "c97afced37494df78e57e0147774cd62": {
          "model_module": "@jupyter-widgets/base",
          "model_name": "LayoutModel",
          "state": {
            "_view_name": "LayoutView",
            "grid_template_rows": null,
            "right": null,
            "justify_content": null,
            "_view_module": "@jupyter-widgets/base",
            "overflow": null,
            "_model_module_version": "1.2.0",
            "_view_count": null,
            "flex_flow": null,
            "width": null,
            "min_width": null,
            "border": null,
            "align_items": null,
            "bottom": null,
            "_model_module": "@jupyter-widgets/base",
            "top": null,
            "grid_column": null,
            "overflow_y": null,
            "overflow_x": null,
            "grid_auto_flow": null,
            "grid_area": null,
            "grid_template_columns": null,
            "flex": null,
            "_model_name": "LayoutModel",
            "justify_items": null,
            "grid_row": null,
            "max_height": null,
            "align_content": null,
            "visibility": null,
            "align_self": null,
            "height": null,
            "min_height": null,
            "padding": null,
            "grid_auto_rows": null,
            "grid_gap": null,
            "max_width": null,
            "order": null,
            "_view_module_version": "1.2.0",
            "grid_template_areas": null,
            "object_position": null,
            "object_fit": null,
            "grid_auto_columns": null,
            "margin": null,
            "display": null,
            "left": null
          }
        },
        "88b159c85f764c7aa326e0047c6fa4df": {
          "model_module": "@jupyter-widgets/controls",
          "model_name": "FloatProgressModel",
          "state": {
            "_view_name": "ProgressView",
            "style": "IPY_MODEL_a055fa200f1e40819aaa9e9f8a6c3b56",
            "_dom_classes": [],
            "description": " 49%",
            "_model_name": "FloatProgressModel",
            "bar_style": "",
            "max": 107785,
            "_view_module": "@jupyter-widgets/controls",
            "_model_module_version": "1.5.0",
            "value": 53079,
            "_view_count": null,
            "_view_module_version": "1.5.0",
            "orientation": "horizontal",
            "min": 0,
            "description_tooltip": null,
            "_model_module": "@jupyter-widgets/controls",
            "layout": "IPY_MODEL_03cd3923e8d64fabab95efde3396fc1a"
          }
        },
        "a25b73df36c549c8ad5f041e2a2abf82": {
          "model_module": "@jupyter-widgets/controls",
          "model_name": "HTMLModel",
          "state": {
            "_view_name": "HTMLView",
            "style": "IPY_MODEL_4300bd59773c4933b0b62f79a5273e0a",
            "_dom_classes": [],
            "description": "",
            "_model_name": "HTMLModel",
            "placeholder": "​",
            "_view_module": "@jupyter-widgets/controls",
            "_model_module_version": "1.5.0",
            "value": " 53079/107785 [16:39&lt;16:32, 55.09it/s]",
            "_view_count": null,
            "_view_module_version": "1.5.0",
            "description_tooltip": null,
            "_model_module": "@jupyter-widgets/controls",
            "layout": "IPY_MODEL_fe06d296540842578f447f12b2103a58"
          }
        },
        "a055fa200f1e40819aaa9e9f8a6c3b56": {
          "model_module": "@jupyter-widgets/controls",
          "model_name": "ProgressStyleModel",
          "state": {
            "_view_name": "StyleView",
            "_model_name": "ProgressStyleModel",
            "description_width": "initial",
            "_view_module": "@jupyter-widgets/base",
            "_model_module_version": "1.5.0",
            "_view_count": null,
            "_view_module_version": "1.2.0",
            "bar_color": null,
            "_model_module": "@jupyter-widgets/controls"
          }
        },
        "03cd3923e8d64fabab95efde3396fc1a": {
          "model_module": "@jupyter-widgets/base",
          "model_name": "LayoutModel",
          "state": {
            "_view_name": "LayoutView",
            "grid_template_rows": null,
            "right": null,
            "justify_content": null,
            "_view_module": "@jupyter-widgets/base",
            "overflow": null,
            "_model_module_version": "1.2.0",
            "_view_count": null,
            "flex_flow": null,
            "width": null,
            "min_width": null,
            "border": null,
            "align_items": null,
            "bottom": null,
            "_model_module": "@jupyter-widgets/base",
            "top": null,
            "grid_column": null,
            "overflow_y": null,
            "overflow_x": null,
            "grid_auto_flow": null,
            "grid_area": null,
            "grid_template_columns": null,
            "flex": null,
            "_model_name": "LayoutModel",
            "justify_items": null,
            "grid_row": null,
            "max_height": null,
            "align_content": null,
            "visibility": null,
            "align_self": null,
            "height": null,
            "min_height": null,
            "padding": null,
            "grid_auto_rows": null,
            "grid_gap": null,
            "max_width": null,
            "order": null,
            "_view_module_version": "1.2.0",
            "grid_template_areas": null,
            "object_position": null,
            "object_fit": null,
            "grid_auto_columns": null,
            "margin": null,
            "display": null,
            "left": null
          }
        },
        "4300bd59773c4933b0b62f79a5273e0a": {
          "model_module": "@jupyter-widgets/controls",
          "model_name": "DescriptionStyleModel",
          "state": {
            "_view_name": "StyleView",
            "_model_name": "DescriptionStyleModel",
            "description_width": "",
            "_view_module": "@jupyter-widgets/base",
            "_model_module_version": "1.5.0",
            "_view_count": null,
            "_view_module_version": "1.2.0",
            "_model_module": "@jupyter-widgets/controls"
          }
        },
        "fe06d296540842578f447f12b2103a58": {
          "model_module": "@jupyter-widgets/base",
          "model_name": "LayoutModel",
          "state": {
            "_view_name": "LayoutView",
            "grid_template_rows": null,
            "right": null,
            "justify_content": null,
            "_view_module": "@jupyter-widgets/base",
            "overflow": null,
            "_model_module_version": "1.2.0",
            "_view_count": null,
            "flex_flow": null,
            "width": null,
            "min_width": null,
            "border": null,
            "align_items": null,
            "bottom": null,
            "_model_module": "@jupyter-widgets/base",
            "top": null,
            "grid_column": null,
            "overflow_y": null,
            "overflow_x": null,
            "grid_auto_flow": null,
            "grid_area": null,
            "grid_template_columns": null,
            "flex": null,
            "_model_name": "LayoutModel",
            "justify_items": null,
            "grid_row": null,
            "max_height": null,
            "align_content": null,
            "visibility": null,
            "align_self": null,
            "height": null,
            "min_height": null,
            "padding": null,
            "grid_auto_rows": null,
            "grid_gap": null,
            "max_width": null,
            "order": null,
            "_view_module_version": "1.2.0",
            "grid_template_areas": null,
            "object_position": null,
            "object_fit": null,
            "grid_auto_columns": null,
            "margin": null,
            "display": null,
            "left": null
          }
        }
      }
    }
  },
  "cells": [
    {
      "cell_type": "markdown",
      "metadata": {
        "id": "Tg8Uz9O7iY8R"
      },
      "source": [
        "# Article recommending system introduction:\n",
        "Article recommending system is a system that makes use of natural language processing and unsupervised k-nearest neighbour to recommend k most relevant articles by papers' title and abstract. It does the task by vectorizing the provided paper's text and using knn to match the \"closest\" to the provided paper in the database. Besides, the system provides a filter function that accurates to the month to filter out the paper earlier than the specified year and month.\n",
        "\n",
        "# Insight Deriving:\n",
        "Inside the COVID-19 Open Research Dataset (CORD-19), there are over 400,000 scholarly articles, including over 150,000 with full text, about COVID-19, SARS-CoV-2, and related coronaviruses. Although the dataset has abundant data, it is very difficult to find the ones that we are interested in without a tool. \n",
        "\n",
        "The system using natural language processing and machine learning to helps the users to find relevant papers of a provided paper among all papers in the database by simply providing the title and the abstract of the provided paper. The system provides scientists, healthcare professionals and other users to find ones' interested article efficiently and conveniently. Using the system during the research of Covid-19 can speed up the study process to a great extent which is a help to tackle the current outbreak based on a machine learning model. "
      ]
    },
    {
      "cell_type": "markdown",
      "metadata": {
        "id": "ilfwLJoQMjR5"
      },
      "source": [
        "# Install and import necessary packages"
      ]
    },
    {
      "cell_type": "code",
      "metadata": {
        "id": "OVSvkvnfJeLZ"
      },
      "source": [
        "!pip install tqdm_notebook > /dev/null 2>&1"
      ],
      "execution_count": 1,
      "outputs": []
    },
    {
      "cell_type": "code",
      "metadata": {
        "id": "A6plclfo7rc3"
      },
      "source": [
        "!pip install scispacy > /dev/null 2>&1"
      ],
      "execution_count": 2,
      "outputs": []
    },
    {
      "cell_type": "code",
      "metadata": {
        "id": "AI-cky_p7sXU"
      },
      "source": [
        "!pip install https://s3-us-west-2.amazonaws.com/ai2-s2-scispacy/releases/v0.4.0/en_core_sci_lg-0.4.0.tar.gz > /dev/null 2>&1"
      ],
      "execution_count": 3,
      "outputs": []
    },
    {
      "cell_type": "code",
      "metadata": {
        "id": "CXMxwxjF8VaS"
      },
      "source": [
        "#Import Libraries\n",
        "\n",
        "import csv\n",
        "import random\n",
        "import numpy as np\n",
        "import pandas as pd\n",
        "import html\n",
        "import re\n",
        "\n",
        "# Plotting\n",
        "import matplotlib.pyplot as plt\n",
        "\n",
        "import scispacy\n",
        "import spacy\n",
        "import en_core_sci_lg\n",
        "\n",
        "%matplotlib inline"
      ],
      "execution_count": 4,
      "outputs": []
    },
    {
      "cell_type": "code",
      "metadata": {
        "colab": {
          "base_uri": "https://localhost:8080/"
        },
        "id": "XTMUNt4v888s",
        "outputId": "b488366e-69de-45d8-8216-dd394eeabce5"
      },
      "source": [
        "if 'google.colab' in str(get_ipython()):\n",
        "  from google.colab import drive\n",
        "  from tqdm.notebook import tqdm_notebook as tqdm\n",
        "  tqdm.pandas()\n",
        "  drive.mount('/content/drive')"
      ],
      "execution_count": 5,
      "outputs": [
        {
          "output_type": "stream",
          "text": [
            "Drive already mounted at /content/drive; to attempt to forcibly remount, call drive.mount(\"/content/drive\", force_remount=True).\n"
          ],
          "name": "stdout"
        },
        {
          "output_type": "stream",
          "text": [
            "/usr/local/lib/python3.7/dist-packages/tqdm/std.py:658: FutureWarning: The Panel class is removed from pandas. Accessing it from the top-level namespace will also be removed in the next version\n",
            "  from pandas import Panel\n"
          ],
          "name": "stderr"
        }
      ]
    },
    {
      "cell_type": "markdown",
      "metadata": {
        "id": "zRr-0r9bizjh"
      },
      "source": [
        "**Please modify the following path to run in your local machine**"
      ]
    },
    {
      "cell_type": "code",
      "metadata": {
        "id": "3o6oNNsbQh71"
      },
      "source": [
        "base_path = \"/content/drive/MyDrive/Colab Notebooks/data/\""
      ],
      "execution_count": 6,
      "outputs": []
    },
    {
      "cell_type": "markdown",
      "metadata": {
        "id": "m5-oTBvUPuxd"
      },
      "source": [
        "# Data cleaning"
      ]
    },
    {
      "cell_type": "code",
      "metadata": {
        "colab": {
          "base_uri": "https://localhost:8080/",
          "height": 1000
        },
        "id": "5xglOimN8VaT",
        "outputId": "6223766d-21f9-4f4e-b354-0a662fb1c875"
      },
      "source": [
        "df = pd.read_csv(base_path+\"metadata.csv\", low_memory=False)\n",
        "df.info(verbose=True)\n",
        "df.head()"
      ],
      "execution_count": 7,
      "outputs": [
        {
          "output_type": "stream",
          "text": [
            "<class 'pandas.core.frame.DataFrame'>\n",
            "RangeIndex: 497906 entries, 0 to 497905\n",
            "Data columns (total 19 columns):\n",
            " #   Column            Non-Null Count   Dtype  \n",
            "---  ------            --------------   -----  \n",
            " 0   cord_uid          497906 non-null  object \n",
            " 1   sha               172105 non-null  object \n",
            " 2   source_x          497906 non-null  object \n",
            " 3   title             497674 non-null  object \n",
            " 4   doi               281753 non-null  object \n",
            " 5   pmcid             182522 non-null  object \n",
            " 6   pubmed_id         241936 non-null  object \n",
            " 7   license           497906 non-null  object \n",
            " 8   abstract          363064 non-null  object \n",
            " 9   publish_time      497687 non-null  object \n",
            " 10  authors           484020 non-null  object \n",
            " 11  journal           464755 non-null  object \n",
            " 12  mag_id            0 non-null       float64\n",
            " 13  who_covidence_id  197568 non-null  object \n",
            " 14  arxiv_id          6687 non-null    object \n",
            " 15  pdf_json_files    172105 non-null  object \n",
            " 16  pmc_json_files    139885 non-null  object \n",
            " 17  url               301950 non-null  object \n",
            " 18  s2_id             448905 non-null  float64\n",
            "dtypes: float64(2), object(17)\n",
            "memory usage: 72.2+ MB\n"
          ],
          "name": "stdout"
        },
        {
          "output_type": "execute_result",
          "data": {
            "text/html": [
              "<div>\n",
              "<style scoped>\n",
              "    .dataframe tbody tr th:only-of-type {\n",
              "        vertical-align: middle;\n",
              "    }\n",
              "\n",
              "    .dataframe tbody tr th {\n",
              "        vertical-align: top;\n",
              "    }\n",
              "\n",
              "    .dataframe thead th {\n",
              "        text-align: right;\n",
              "    }\n",
              "</style>\n",
              "<table border=\"1\" class=\"dataframe\">\n",
              "  <thead>\n",
              "    <tr style=\"text-align: right;\">\n",
              "      <th></th>\n",
              "      <th>cord_uid</th>\n",
              "      <th>sha</th>\n",
              "      <th>source_x</th>\n",
              "      <th>title</th>\n",
              "      <th>doi</th>\n",
              "      <th>pmcid</th>\n",
              "      <th>pubmed_id</th>\n",
              "      <th>license</th>\n",
              "      <th>abstract</th>\n",
              "      <th>publish_time</th>\n",
              "      <th>authors</th>\n",
              "      <th>journal</th>\n",
              "      <th>mag_id</th>\n",
              "      <th>who_covidence_id</th>\n",
              "      <th>arxiv_id</th>\n",
              "      <th>pdf_json_files</th>\n",
              "      <th>pmc_json_files</th>\n",
              "      <th>url</th>\n",
              "      <th>s2_id</th>\n",
              "    </tr>\n",
              "  </thead>\n",
              "  <tbody>\n",
              "    <tr>\n",
              "      <th>0</th>\n",
              "      <td>ug7v899j</td>\n",
              "      <td>d1aafb70c066a2068b02786f8929fd9c900897fb</td>\n",
              "      <td>PMC</td>\n",
              "      <td>Clinical features of culture-proven Mycoplasma...</td>\n",
              "      <td>10.1186/1471-2334-1-6</td>\n",
              "      <td>PMC35282</td>\n",
              "      <td>11472636</td>\n",
              "      <td>no-cc</td>\n",
              "      <td>OBJECTIVE: This retrospective chart review des...</td>\n",
              "      <td>2001-07-04</td>\n",
              "      <td>Madani, Tariq A; Al-Ghamdi, Aisha A</td>\n",
              "      <td>BMC Infect Dis</td>\n",
              "      <td>NaN</td>\n",
              "      <td>NaN</td>\n",
              "      <td>NaN</td>\n",
              "      <td>document_parses/pdf_json/d1aafb70c066a2068b027...</td>\n",
              "      <td>document_parses/pmc_json/PMC35282.xml.json</td>\n",
              "      <td>https://www.ncbi.nlm.nih.gov/pmc/articles/PMC3...</td>\n",
              "      <td>NaN</td>\n",
              "    </tr>\n",
              "    <tr>\n",
              "      <th>1</th>\n",
              "      <td>02tnwd4m</td>\n",
              "      <td>6b0567729c2143a66d737eb0a2f63f2dce2e5a7d</td>\n",
              "      <td>PMC</td>\n",
              "      <td>Nitric oxide: a pro-inflammatory mediator in l...</td>\n",
              "      <td>10.1186/rr14</td>\n",
              "      <td>PMC59543</td>\n",
              "      <td>11667967</td>\n",
              "      <td>no-cc</td>\n",
              "      <td>Inflammatory diseases of the respiratory tract...</td>\n",
              "      <td>2000-08-15</td>\n",
              "      <td>Vliet, Albert van der; Eiserich, Jason P; Cros...</td>\n",
              "      <td>Respir Res</td>\n",
              "      <td>NaN</td>\n",
              "      <td>NaN</td>\n",
              "      <td>NaN</td>\n",
              "      <td>document_parses/pdf_json/6b0567729c2143a66d737...</td>\n",
              "      <td>document_parses/pmc_json/PMC59543.xml.json</td>\n",
              "      <td>https://www.ncbi.nlm.nih.gov/pmc/articles/PMC5...</td>\n",
              "      <td>NaN</td>\n",
              "    </tr>\n",
              "    <tr>\n",
              "      <th>2</th>\n",
              "      <td>ejv2xln0</td>\n",
              "      <td>06ced00a5fc04215949aa72528f2eeaae1d58927</td>\n",
              "      <td>PMC</td>\n",
              "      <td>Surfactant protein-D and pulmonary host defense</td>\n",
              "      <td>10.1186/rr19</td>\n",
              "      <td>PMC59549</td>\n",
              "      <td>11667972</td>\n",
              "      <td>no-cc</td>\n",
              "      <td>Surfactant protein-D (SP-D) participates in th...</td>\n",
              "      <td>2000-08-25</td>\n",
              "      <td>Crouch, Erika C</td>\n",
              "      <td>Respir Res</td>\n",
              "      <td>NaN</td>\n",
              "      <td>NaN</td>\n",
              "      <td>NaN</td>\n",
              "      <td>document_parses/pdf_json/06ced00a5fc04215949aa...</td>\n",
              "      <td>document_parses/pmc_json/PMC59549.xml.json</td>\n",
              "      <td>https://www.ncbi.nlm.nih.gov/pmc/articles/PMC5...</td>\n",
              "      <td>NaN</td>\n",
              "    </tr>\n",
              "    <tr>\n",
              "      <th>3</th>\n",
              "      <td>2b73a28n</td>\n",
              "      <td>348055649b6b8cf2b9a376498df9bf41f7123605</td>\n",
              "      <td>PMC</td>\n",
              "      <td>Role of endothelin-1 in lung disease</td>\n",
              "      <td>10.1186/rr44</td>\n",
              "      <td>PMC59574</td>\n",
              "      <td>11686871</td>\n",
              "      <td>no-cc</td>\n",
              "      <td>Endothelin-1 (ET-1) is a 21 amino acid peptide...</td>\n",
              "      <td>2001-02-22</td>\n",
              "      <td>Fagan, Karen A; McMurtry, Ivan F; Rodman, David M</td>\n",
              "      <td>Respir Res</td>\n",
              "      <td>NaN</td>\n",
              "      <td>NaN</td>\n",
              "      <td>NaN</td>\n",
              "      <td>document_parses/pdf_json/348055649b6b8cf2b9a37...</td>\n",
              "      <td>document_parses/pmc_json/PMC59574.xml.json</td>\n",
              "      <td>https://www.ncbi.nlm.nih.gov/pmc/articles/PMC5...</td>\n",
              "      <td>NaN</td>\n",
              "    </tr>\n",
              "    <tr>\n",
              "      <th>4</th>\n",
              "      <td>9785vg6d</td>\n",
              "      <td>5f48792a5fa08bed9f56016f4981ae2ca6031b32</td>\n",
              "      <td>PMC</td>\n",
              "      <td>Gene expression in epithelial cells in respons...</td>\n",
              "      <td>10.1186/rr61</td>\n",
              "      <td>PMC59580</td>\n",
              "      <td>11686888</td>\n",
              "      <td>no-cc</td>\n",
              "      <td>Respiratory syncytial virus (RSV) and pneumoni...</td>\n",
              "      <td>2001-05-11</td>\n",
              "      <td>Domachowske, Joseph B; Bonville, Cynthia A; Ro...</td>\n",
              "      <td>Respir Res</td>\n",
              "      <td>NaN</td>\n",
              "      <td>NaN</td>\n",
              "      <td>NaN</td>\n",
              "      <td>document_parses/pdf_json/5f48792a5fa08bed9f560...</td>\n",
              "      <td>document_parses/pmc_json/PMC59580.xml.json</td>\n",
              "      <td>https://www.ncbi.nlm.nih.gov/pmc/articles/PMC5...</td>\n",
              "      <td>NaN</td>\n",
              "    </tr>\n",
              "  </tbody>\n",
              "</table>\n",
              "</div>"
            ],
            "text/plain": [
              "   cord_uid  ... s2_id\n",
              "0  ug7v899j  ...   NaN\n",
              "1  02tnwd4m  ...   NaN\n",
              "2  ejv2xln0  ...   NaN\n",
              "3  2b73a28n  ...   NaN\n",
              "4  9785vg6d  ...   NaN\n",
              "\n",
              "[5 rows x 19 columns]"
            ]
          },
          "metadata": {
            "tags": []
          },
          "execution_count": 7
        }
      ]
    },
    {
      "cell_type": "code",
      "metadata": {
        "id": "DQ98z19I8VaT"
      },
      "source": [
        "# load the meta data from the CSV file and extract out fields that will be useful to our application\n",
        "\n",
        "df = df[['title','abstract','publish_time', 'cord_uid', 'who_covidence_id']]\n",
        "df = df.drop_duplicates(subset='abstract', keep=\"first\")\n",
        "df=df.dropna()\n",
        "df[\"abstract\"] = df[\"abstract\"].str.lower()\n",
        "df[\"title\"] = df[\"title\"].str.lower()"
      ],
      "execution_count": 8,
      "outputs": []
    },
    {
      "cell_type": "markdown",
      "metadata": {
        "id": "uElUPWp1KWO6"
      },
      "source": [
        "Only choose the articles related to COVID-19 for this project. I assume that papers with a who_covidence_id are related to COVID-19."
      ]
    },
    {
      "cell_type": "code",
      "metadata": {
        "id": "U9OSY_MEoRxR",
        "colab": {
          "base_uri": "https://localhost:8080/"
        },
        "outputId": "c5e7e958-3bf1-493c-bcb4-b63c132a5580"
      },
      "source": [
        "df.shape"
      ],
      "execution_count": 9,
      "outputs": [
        {
          "output_type": "execute_result",
          "data": {
            "text/plain": [
              "(107785, 5)"
            ]
          },
          "metadata": {
            "tags": []
          },
          "execution_count": 9
        }
      ]
    },
    {
      "cell_type": "code",
      "metadata": {
        "id": "RH3h_dDHorbo",
        "colab": {
          "base_uri": "https://localhost:8080/",
          "height": 203
        },
        "outputId": "5bace9a9-b5d6-47bf-a841-72cf35cf313c"
      },
      "source": [
        "df.head()"
      ],
      "execution_count": 10,
      "outputs": [
        {
          "output_type": "execute_result",
          "data": {
            "text/html": [
              "<div>\n",
              "<style scoped>\n",
              "    .dataframe tbody tr th:only-of-type {\n",
              "        vertical-align: middle;\n",
              "    }\n",
              "\n",
              "    .dataframe tbody tr th {\n",
              "        vertical-align: top;\n",
              "    }\n",
              "\n",
              "    .dataframe thead th {\n",
              "        text-align: right;\n",
              "    }\n",
              "</style>\n",
              "<table border=\"1\" class=\"dataframe\">\n",
              "  <thead>\n",
              "    <tr style=\"text-align: right;\">\n",
              "      <th></th>\n",
              "      <th>title</th>\n",
              "      <th>abstract</th>\n",
              "      <th>publish_time</th>\n",
              "      <th>cord_uid</th>\n",
              "      <th>who_covidence_id</th>\n",
              "    </tr>\n",
              "  </thead>\n",
              "  <tbody>\n",
              "    <tr>\n",
              "      <th>131452</th>\n",
              "      <td>simple discrete-time self-exciting models can ...</td>\n",
              "      <td>hawkes processes are a form of self-exciting p...</td>\n",
              "      <td>2020</td>\n",
              "      <td>gupghjy5</td>\n",
              "      <td>#20221077</td>\n",
              "    </tr>\n",
              "    <tr>\n",
              "      <th>131488</th>\n",
              "      <td>inhibitors for novel coronavirus protease iden...</td>\n",
              "      <td>the rapid outbreak of the novel severe acute r...</td>\n",
              "      <td>2020</td>\n",
              "      <td>bbumotlt</td>\n",
              "      <td>#7330</td>\n",
              "    </tr>\n",
              "    <tr>\n",
              "      <th>131531</th>\n",
              "      <td>induction of “cytokine storm” in patients infe...</td>\n",
              "      <td>coronaviruses are an extensive family of virus...</td>\n",
              "      <td>2020</td>\n",
              "      <td>fmfp5a4x</td>\n",
              "      <td>#606820</td>\n",
              "    </tr>\n",
              "    <tr>\n",
              "      <th>131551</th>\n",
              "      <td>modelling testing and response strategies for ...</td>\n",
              "      <td>backgroundremote australian aboriginal and tor...</td>\n",
              "      <td>2020</td>\n",
              "      <td>c28dddod</td>\n",
              "      <td>#20208819</td>\n",
              "    </tr>\n",
              "    <tr>\n",
              "      <th>131557</th>\n",
              "      <td>cities and immigrants: the local in anti‐immig...</td>\n",
              "      <td>few americans would guess that from 2014 to 20...</td>\n",
              "      <td>2020</td>\n",
              "      <td>3htlc0qi</td>\n",
              "      <td>#143703975</td>\n",
              "    </tr>\n",
              "  </tbody>\n",
              "</table>\n",
              "</div>"
            ],
            "text/plain": [
              "                                                    title  ... who_covidence_id\n",
              "131452  simple discrete-time self-exciting models can ...  ...        #20221077\n",
              "131488  inhibitors for novel coronavirus protease iden...  ...            #7330\n",
              "131531  induction of “cytokine storm” in patients infe...  ...          #606820\n",
              "131551  modelling testing and response strategies for ...  ...        #20208819\n",
              "131557  cities and immigrants: the local in anti‐immig...  ...       #143703975\n",
              "\n",
              "[5 rows x 5 columns]"
            ]
          },
          "metadata": {
            "tags": []
          },
          "execution_count": 10
        }
      ]
    },
    {
      "cell_type": "markdown",
      "metadata": {
        "id": "4HRbi8xBLENo"
      },
      "source": [
        "We use scispaCy for preprocessing, which is a Python package containing spaCy models for processing scientific text."
      ]
    },
    {
      "cell_type": "code",
      "metadata": {
        "id": "fJoH2RZK7EeC"
      },
      "source": [
        "nlp = en_core_sci_lg.load(disable=[\"parser\", \"ner\"])\n",
        "nlp.max_length = 2000000"
      ],
      "execution_count": 11,
      "outputs": []
    },
    {
      "cell_type": "code",
      "metadata": {
        "id": "vhKY3VsQ9KjT"
      },
      "source": [
        "def clean_text(sentence):\n",
        "  sentence = html.unescape(sentence) # replaces HTML charachter codes with ASCII equivalent\n",
        "  sentence = re.sub(r\"http\\S+\", \"\", sentence) # removes URL links\n",
        "  wordsList = []\n",
        "  for word in nlp(sentence):\n",
        "    if not (word.is_stop or word.is_space or word.like_num or word.is_punct or len(word)<2):\n",
        "      wordsList.append(word.lemma_)\n",
        "  return \" \".join(wordsList)"
      ],
      "execution_count": 12,
      "outputs": []
    },
    {
      "cell_type": "markdown",
      "metadata": {
        "id": "NhgmGC9YL98t"
      },
      "source": [
        "Add customize stop words"
      ]
    },
    {
      "cell_type": "code",
      "metadata": {
        "id": "YNLnIAqG-bXQ"
      },
      "source": [
        "customize_stop_words = [\n",
        "    'doi', 'preprint', 'copyright', 'https', 'author', 'figure', 'table',\n",
        "    'rights', 'reserved', 'permission', 'use', 'biorxiv', 'medrxiv', \n",
        "    'license', 'fig', 'fig.', 'al.', 'PMC', 'CZI', \n",
        "    'br', 'the', 'i', 'me', 'my', 'myself', 'we', 'our', 'ours', 'ourselves', 'you', \\\n",
        "    \"you're\", \"you've\", \"you'll\", \"you'd\", 'your', 'yours', 'yourself', 'yourselves', \\\n",
        "    'he', 'him', 'his', 'himself', 'she', \"she's\", 'her', 'hers', 'herself', 'it', \"it's\", \\\n",
        "    'its', 'itself', 'they', 'them', 'their', 'theirs', 'themselves', 'what', 'which', 'who', \\\n",
        "    'whom', 'this', 'that', \"that'll\", 'these', 'those', 'am', 'is', 'are', 'was', 'were', \\\n",
        "    'be', 'been', 'being', 'have', 'has', 'had', 'having', 'do', 'does', 'did', 'doing', \\\n",
        "    'a', 'an', 'the', 'and', 'but', 'if', 'or', 'because', 'as', 'until', 'while', 'of', \\\n",
        "    'at', 'by', 'for', 'with', 'about', 'against', 'between', 'into', 'through', 'during', \\\n",
        "    'before', 'after', 'above', 'below', 'to', 'from', 'up', 'down', 'in', 'out', 'on', 'off', \\\n",
        "    'over', 'under', 'again', 'further', 'then', 'once', 'here', 'there', 'when', 'where', 'why', \\\n",
        "    'how', 'all', 'any', 'both', 'each', 'few', 'more', 'most', 'other', 'some', 'such', 'only', \\\n",
        "    'own', 'same', 'so', 'than', 'too', 'very', 's', 't', 'can', 'will', 'just', 'don', \"don't\", \\\n",
        "    'should', \"should've\", 'now', 'd', 'll', 'm', 'o', 're', 've', 'y', 'ain', 'aren', \"aren't\", \\\n",
        "    'couldn', \"couldn't\", 'didn', \"didn't\", 'doesn', \"doesn't\", 'hadn', \"hadn't\", 'hasn', \\\n",
        "    \"hasn't\", 'haven', \"haven't\", 'isn', \"isn't\", 'ma', 'mightn', \"mightn't\", 'mustn', \\\n",
        "    \"mustn't\", 'needn', \"needn't\", 'shan', \"shan't\", 'shouldn', \"shouldn't\", 'wasn', \"wasn't\", \\\n",
        "    'weren', \"weren't\", 'won', \"won't\", 'wouldn', \"wouldn't\"\n",
        "]\n",
        "for word in customize_stop_words:\n",
        "    nlp.vocab[word].is_stop = True"
      ],
      "execution_count": 13,
      "outputs": []
    },
    {
      "cell_type": "markdown",
      "metadata": {
        "id": "CS1V4TNbMQVi"
      },
      "source": [
        "Apply the nlp model to title and abstract columns."
      ]
    },
    {
      "cell_type": "code",
      "metadata": {
        "colab": {
          "base_uri": "https://localhost:8080/",
          "height": 98,
          "referenced_widgets": [
            "bcaa7ce19ece4031a7c20e8cb1b0659e",
            "f5c4089e741041069751eb21f216acca",
            "85ba1a2ee09444c1a1f9018adc7b8126",
            "c96fd2a68480408798470933c573e6cd",
            "bdad7dc70215465aaffe649e026e9f22",
            "5ef48368378a421db9164101242a447d",
            "a607bc93d95c40bd9e0f225160ec4e57",
            "fe936a77db384f239b19a48849447472",
            "928ffea2337e446ba8264ea9204ac633",
            "c97afced37494df78e57e0147774cd62",
            "88b159c85f764c7aa326e0047c6fa4df",
            "a25b73df36c549c8ad5f041e2a2abf82",
            "a055fa200f1e40819aaa9e9f8a6c3b56",
            "03cd3923e8d64fabab95efde3396fc1a",
            "4300bd59773c4933b0b62f79a5273e0a",
            "fe06d296540842578f447f12b2103a58"
          ]
        },
        "id": "a23j3_3aJQKg",
        "outputId": "6ed9e616-6ce5-41b9-ec70-390b8e7c0436"
      },
      "source": [
        "def clean_df(data):\n",
        "  data['cleaned_title'] = data['title'].progress_apply(clean_text)\n",
        "  data['cleaned_abstract'] = data['abstract'].progress_apply(clean_text)\n",
        "clean_df(df)"
      ],
      "execution_count": null,
      "outputs": [
        {
          "output_type": "display_data",
          "data": {
            "application/vnd.jupyter.widget-view+json": {
              "model_id": "bcaa7ce19ece4031a7c20e8cb1b0659e",
              "version_minor": 0,
              "version_major": 2
            },
            "text/plain": [
              "HBox(children=(FloatProgress(value=0.0, max=107785.0), HTML(value='')))"
            ]
          },
          "metadata": {
            "tags": []
          }
        },
        {
          "output_type": "stream",
          "text": [
            "\n"
          ],
          "name": "stdout"
        },
        {
          "output_type": "display_data",
          "data": {
            "application/vnd.jupyter.widget-view+json": {
              "model_id": "928ffea2337e446ba8264ea9204ac633",
              "version_minor": 0,
              "version_major": 2
            },
            "text/plain": [
              "HBox(children=(FloatProgress(value=0.0, max=107785.0), HTML(value='')))"
            ]
          },
          "metadata": {
            "tags": []
          }
        }
      ]
    },
    {
      "cell_type": "markdown",
      "metadata": {
        "id": "M7wCbsUCNicd"
      },
      "source": [
        "Convert the publish time to datetime object, and categorize the time into year and month separately."
      ]
    },
    {
      "cell_type": "code",
      "metadata": {
        "id": "5hDsRwL6Xy8B"
      },
      "source": [
        "df['publish_time'] = pd.to_datetime(df['publish_time'])\n",
        "def categorize_time(data):\n",
        "  data['publish_year'] = data['publish_time'].dt.year\n",
        "  data['publish_month'] = data['publish_time'].dt.month\n",
        "categorize_time(df)"
      ],
      "execution_count": null,
      "outputs": []
    },
    {
      "cell_type": "markdown",
      "metadata": {
        "id": "6E1ZQ3i8OwiQ"
      },
      "source": [
        "Save the preprocessed dataframe"
      ]
    },
    {
      "cell_type": "code",
      "metadata": {
        "id": "_4cXROldvTxF"
      },
      "source": [
        "df.to_csv(base_path + \"preproced_metadata.csv\")"
      ],
      "execution_count": null,
      "outputs": []
    },
    {
      "cell_type": "markdown",
      "metadata": {
        "id": "pdKepwSBXSJw"
      },
      "source": [
        "# Data visualization"
      ]
    },
    {
      "cell_type": "code",
      "metadata": {
        "id": "a46CedQkXfXP"
      },
      "source": [
        "proced_df = pd.read_csv(base_path + \"preproced_metadata.csv\", low_memory=False)"
      ],
      "execution_count": null,
      "outputs": []
    },
    {
      "cell_type": "code",
      "metadata": {
        "id": "hed3OlA4LfH3"
      },
      "source": [
        "proced_df = proced_df.dropna()"
      ],
      "execution_count": null,
      "outputs": []
    },
    {
      "cell_type": "code",
      "metadata": {
        "id": "HdTVi6kaXrAI"
      },
      "source": [
        "proced_df.head()"
      ],
      "execution_count": null,
      "outputs": []
    },
    {
      "cell_type": "markdown",
      "metadata": {
        "id": "SBp92Zr-1OeY"
      },
      "source": [
        "## publish year distribution"
      ]
    },
    {
      "cell_type": "markdown",
      "metadata": {
        "id": "VKfzDAGnO7Iq"
      },
      "source": [
        "As we can see, most of the articles articles published in 2020, so filtering the articles by year would not be very helpful. Therefore, we can add month to the filtering condition to help user filter the articles according to the publish time more accurately. "
      ]
    },
    {
      "cell_type": "code",
      "metadata": {
        "id": "qYtxs5KgZAOc"
      },
      "source": [
        "proced_df['publish_year'].plot.hist()\n",
        "plt.xlabel('Publish year')  \n",
        "plt.ylabel('Counts')\n",
        "plt.title('Publish year distribution')\n",
        "plt.show()"
      ],
      "execution_count": null,
      "outputs": []
    },
    {
      "cell_type": "markdown",
      "metadata": {
        "id": "uA8li4_aD8Y8"
      },
      "source": [
        "## Plot word frequency for abstract"
      ]
    },
    {
      "cell_type": "code",
      "metadata": {
        "id": "SrqrIqwX-IJT"
      },
      "source": [
        "import nltk\n",
        "nltk.download('punkt')"
      ],
      "execution_count": null,
      "outputs": []
    },
    {
      "cell_type": "code",
      "metadata": {
        "id": "Gb7SIkSh-Szn"
      },
      "source": [
        "def get_word_freq(data, top_N=20):\n",
        "  preproced_data = data.str.cat(sep=' ')\n",
        "  words = nltk.tokenize.word_tokenize(preproced_data)\n",
        "  words_selected = [i for i in words if len(i) > 2]\n",
        "  words_dist = nltk.FreqDist(words_selected)\n",
        "  words_freq = pd.DataFrame(words_dist.most_common(top_N),\n",
        "                      columns=['Word', 'Frequency'])\n",
        "  return words_freq, words_dist"
      ],
      "execution_count": null,
      "outputs": []
    },
    {
      "cell_type": "code",
      "metadata": {
        "id": "OcHGtL9BQ0lp"
      },
      "source": [
        "from wordcloud import WordCloud\n",
        "def draw_word_cloud(word_dist, title):\n",
        "  wordcloud = WordCloud(width=800, height=500, max_font_size=110).generate_from_frequencies(word_dist)\n",
        "  plt.figure(figsize=(10, 10))\n",
        "  plt.imshow(wordcloud, interpolation=\"bilinear\")\n",
        "  plt.title(\"Title words cloud\")\n",
        "  plt.axis('off')\n",
        "  plt.show()"
      ],
      "execution_count": null,
      "outputs": []
    },
    {
      "cell_type": "code",
      "metadata": {
        "id": "2ehTm6AE-03E"
      },
      "source": [
        "abstract_words_freq, abstract_words_dist = get_word_freq(proced_df['cleaned_abstract'], top_N=20)"
      ],
      "execution_count": null,
      "outputs": []
    },
    {
      "cell_type": "code",
      "metadata": {
        "id": "v92Ohp6oBQlR"
      },
      "source": [
        "abstract_words_freq"
      ],
      "execution_count": null,
      "outputs": []
    },
    {
      "cell_type": "code",
      "metadata": {
        "id": "eE3RjMotCmln"
      },
      "source": [
        "abstract_words_freq.plot(x='Word', y='Frequency', kind='bar')"
      ],
      "execution_count": null,
      "outputs": []
    },
    {
      "cell_type": "code",
      "metadata": {
        "id": "XJtum73bRBBK"
      },
      "source": [
        "draw_word_cloud(abstract_words_dist, \"Abstract word cloud\")"
      ],
      "execution_count": null,
      "outputs": []
    },
    {
      "cell_type": "markdown",
      "metadata": {
        "id": "KFufBmuGEBbI"
      },
      "source": [
        "## Plot word frequency for title"
      ]
    },
    {
      "cell_type": "code",
      "metadata": {
        "id": "_ecnaaUJEHJm"
      },
      "source": [
        "title_words_freq, title_words_dist = get_word_freq(proced_df['cleaned_title'], top_N=20)"
      ],
      "execution_count": null,
      "outputs": []
    },
    {
      "cell_type": "code",
      "metadata": {
        "id": "091WCwe1ETTw"
      },
      "source": [
        "title_words_freq"
      ],
      "execution_count": null,
      "outputs": []
    },
    {
      "cell_type": "code",
      "metadata": {
        "id": "tuTwI_waEUd8"
      },
      "source": [
        "title_words_freq.plot(x='Word', y='Frequency', kind='bar')"
      ],
      "execution_count": null,
      "outputs": []
    },
    {
      "cell_type": "code",
      "metadata": {
        "id": "TIxZvbzRQXt2"
      },
      "source": [
        "draw_word_cloud(title_words_dist, \"Title word cloud\")"
      ],
      "execution_count": null,
      "outputs": []
    },
    {
      "cell_type": "markdown",
      "metadata": {
        "id": "4eaTOwONRl-a"
      },
      "source": [
        "## Data visualization summary"
      ]
    },
    {
      "cell_type": "markdown",
      "metadata": {
        "id": "ztU1EPbzRq5F"
      },
      "source": [
        "By visualizing the data, I find out that words directly related Covid-19 appears very frequently in both title and abstract. Therefore, if we want to make distictions and calculate meaningful distances between articles, we have to ignore words that appears most frequent in title and abstract"
      ]
    },
    {
      "cell_type": "markdown",
      "metadata": {
        "id": "hkUCPc0oFOn3"
      },
      "source": [
        "# Model selection and fitting to the data"
      ]
    },
    {
      "cell_type": "markdown",
      "metadata": {
        "id": "QDdt3u7eUNaZ"
      },
      "source": [
        "Since there are no easy ways to evaluate an unsupervised model, I only choose a small subset data as test set to test the functionality of the model."
      ]
    },
    {
      "cell_type": "code",
      "metadata": {
        "id": "1rzadIKWkyeP"
      },
      "source": [
        "from sklearn.model_selection import train_test_split\n",
        "train_df, test_df = train_test_split(proced_df, test_size=100, random_state=42)"
      ],
      "execution_count": null,
      "outputs": []
    },
    {
      "cell_type": "code",
      "metadata": {
        "id": "ZJX0G9sQh6iC"
      },
      "source": [
        "print(f\"Training set shape: {train_df.shape}\")\n",
        "print(f\"Testing set shape: {test_df.shape}\")"
      ],
      "execution_count": null,
      "outputs": []
    },
    {
      "cell_type": "code",
      "metadata": {
        "id": "FLPPc8fPUtOD"
      },
      "source": [
        "from sklearn.base import TransformerMixin\n",
        "from sklearn.neighbors import NearestNeighbors\n",
        "class NNWrapper(TransformerMixin):\n",
        "  '''\n",
        "  Nearest Neighbour wrapper for pipeline\n",
        "  '''\n",
        "  def __init__(self, knn_args):\n",
        "    self.knn = NearestNeighbors(**knn_args)\n",
        "\n",
        "  def fit(self, X, y=None):\n",
        "    self.knn.fit(X)\n",
        "\n",
        "  def predict(self, X, **predict_params):\n",
        "    return self.knn.kneighbors(X, predict_params['n_neighbors'], predict_params['return_distance'])"
      ],
      "execution_count": null,
      "outputs": []
    },
    {
      "cell_type": "markdown",
      "metadata": {
        "id": "uErw2EUrWqt1"
      },
      "source": [
        "I use a simple pipeline to train my model by following steps below:\n",
        "\n",
        "\n",
        "1.   I use a column transformer to process title and abstract independently and I choose TFIDF as my vectorizer since it usually performs better than word frequency in my experience.\n",
        "2.   Then the preprocessed data is fed into the knn model for training.\n",
        "\n"
      ]
    },
    {
      "cell_type": "code",
      "metadata": {
        "id": "8dUCN9-RBVqF"
      },
      "source": [
        "from sklearn.feature_extraction.text import TfidfVectorizer\n",
        "from sklearn.compose import ColumnTransformer\n",
        "from sklearn.pipeline import Pipeline\n",
        "\n",
        "\n",
        "def train(train_df, title_args, abstract_args, knn_args):\n",
        "  preprocess = ColumnTransformer([\n",
        "                                  ('title', TfidfVectorizer(**title_args), 'cleaned_title'),\n",
        "                                  ('abstract', TfidfVectorizer(**abstract_args), 'cleaned_abstract')\n",
        "                                  ], remainder = 'drop', n_jobs=-1)\n",
        "          \n",
        "  pipe = Pipeline([\n",
        "                  ('preprocess', preprocess),\n",
        "                  ('model', NNWrapper(knn_args))\n",
        "          ],\n",
        "          verbose=True)\n",
        "  pipe.fit(train_df)\n",
        "  return pipe"
      ],
      "execution_count": null,
      "outputs": []
    },
    {
      "cell_type": "markdown",
      "metadata": {
        "id": "ZZGPlikQXa9-"
      },
      "source": [
        "In the cell below, I specify the arguments for the models in the pipeline.\n",
        "In particular, note that by setting min_df and max_df, I only take the words that appear more than 10% and less than 90%. By setting min_df, we don't consider the extremely rare words, and the reason for setting max_df has been stated in data visualization part."
      ]
    },
    {
      "cell_type": "code",
      "metadata": {
        "id": "cXxtpvrAT7Qh"
      },
      "source": [
        "MAX_FEATURES_TITLE = 1000\n",
        "MAX_FEATURES_ABSTRACT = 10000\n",
        "title_args = {'min_df': 0.1,  'max_df':0.9,'max_features': MAX_FEATURES_TITLE, 'ngram_range': (1, 3)}\n",
        "abstract_args = {'min_df': 0.1,  'max_df':0.9, 'max_features': MAX_FEATURES_ABSTRACT, 'ngram_range': (1, 4)}\n",
        "knn_args = {'n_neighbors': 3, 'n_jobs': -1}\n",
        "model = train(train_df, title_args, abstract_args, knn_args)"
      ],
      "execution_count": null,
      "outputs": []
    },
    {
      "cell_type": "code",
      "metadata": {
        "id": "eh42pUpoTMNo"
      },
      "source": [
        "def get_kneighbors(model, X, k=3, return_distance=True):\n",
        "  return model.predict(X, n_neighbors=k, return_distance=return_distance)"
      ],
      "execution_count": null,
      "outputs": []
    },
    {
      "cell_type": "code",
      "metadata": {
        "id": "RrRQ_FOqnswx"
      },
      "source": [
        "def recommand(model, paper, database, no_earlier=None, k=3):\n",
        "  '''\n",
        "  The function takes an input of a single paper and recommands the k most relevant papers in the database.\n",
        "  no_earlier(str): is a filter to discard the papers strictly earlier than the argument. It should be in the format of year-month(e.g. '2020-08')\n",
        "  '''\n",
        "  no_earlier_dt = pd.to_datetime(no_earlier)\n",
        "  dists, nn = get_kneighbors(model, paper, k)\n",
        "  recommand_papers = database.iloc[nn[0], :].copy()\n",
        "  recommand_papers['distance'] = dists[0]\n",
        "  if no_earlier:\n",
        "    return recommand_papers[recommand_papers['publish_time'] > no_earlier]\n",
        "  return recommand_papers"
      ],
      "execution_count": null,
      "outputs": []
    },
    {
      "cell_type": "markdown",
      "metadata": {
        "id": "Z1zNUrBR86bt"
      },
      "source": [
        "## Test the model"
      ]
    },
    {
      "cell_type": "markdown",
      "metadata": {
        "id": "5XEnqcP8uLMU"
      },
      "source": [
        "Test the model by finding the k=5 most relevant papers of another paper."
      ]
    },
    {
      "cell_type": "code",
      "metadata": {
        "id": "mISeT_1l9A0e"
      },
      "source": [
        "test_paper = test_df.iloc[[1]]"
      ],
      "execution_count": null,
      "outputs": []
    },
    {
      "cell_type": "code",
      "metadata": {
        "id": "lwmpXC049GPE"
      },
      "source": [
        "test_paper"
      ],
      "execution_count": null,
      "outputs": []
    },
    {
      "cell_type": "code",
      "metadata": {
        "id": "77F3_vXtysZK"
      },
      "source": [
        "recommand_papers = recommand(model, test_paper, train_df, k=5)"
      ],
      "execution_count": null,
      "outputs": []
    },
    {
      "cell_type": "code",
      "metadata": {
        "id": "3-rCxi2r7TPg"
      },
      "source": [
        "recommand_papers"
      ],
      "execution_count": null,
      "outputs": []
    },
    {
      "cell_type": "markdown",
      "metadata": {
        "id": "O6eXnCiuuhlm"
      },
      "source": [
        "Filter out the paper earlier than 2020-09"
      ]
    },
    {
      "cell_type": "code",
      "metadata": {
        "id": "wErR-Sq7pQfd"
      },
      "source": [
        "recommand_papers_filtered = recommand(model, test_paper, train_df, k=5, no_earlier='2020-09')"
      ],
      "execution_count": null,
      "outputs": []
    },
    {
      "cell_type": "code",
      "metadata": {
        "id": "isLq2pQipZD_"
      },
      "source": [
        "recommand_papers_filtered"
      ],
      "execution_count": null,
      "outputs": []
    },
    {
      "cell_type": "markdown",
      "metadata": {
        "id": "4LdtOca0upIF"
      },
      "source": [
        "Plot the distance betwenn the provided paper and relevant papers. Using the paper titles as the x-label would be too long, so I choose to use cord_id instead."
      ]
    },
    {
      "cell_type": "code",
      "metadata": {
        "id": "MVPYr03JbDlE"
      },
      "source": [
        "recommand_papers.plot(x='cord_id', y='distance', kind='bar')"
      ],
      "execution_count": null,
      "outputs": []
    },
    {
      "cell_type": "markdown",
      "metadata": {
        "id": "CMq2rCUmvxUE"
      },
      "source": [
        "Function to retrieve all recommendations of provided papers at once."
      ]
    },
    {
      "cell_type": "code",
      "metadata": {
        "id": "jZbLnuqPl_wm"
      },
      "source": [
        "def retrieve_all_recom(model, papers, database, no_earlier=None, k=2):\n",
        "  '''\n",
        "  Providing a dataframe of papers, the function returns a dataframe the k most relevant papers\n",
        "  for each provided paper. The dataframe also adds the original provided paper's title on a new column\n",
        "  for better reference.\n",
        "  '''\n",
        "  paper_storer = []\n",
        "\n",
        "  for i in range(0, papers.shape[0]):\n",
        "    orig_paper = papers.iloc[[i]]\n",
        "    recom_papers = recommand(model, orig_paper, database, k=k)\n",
        "    recom_papers['original_paper_title'] = orig_paper['title'].values[0]\n",
        "    paper_storer.append(recom_papers)\n",
        "  all_recommand_papers = pd.concat(paper_storer, axis=0)\n",
        "  if no_earlier:\n",
        "    return all_recommand_papers[all_recommand_papers['publish_time'] > no_earlier]\n",
        "  return all_recommand_papers"
      ],
      "execution_count": null,
      "outputs": []
    },
    {
      "cell_type": "code",
      "metadata": {
        "id": "VEuvSZ_7esNT"
      },
      "source": [
        "all_recommand_papers = retrieve_all_recom(model, test_df, train_df, k=2)"
      ],
      "execution_count": null,
      "outputs": []
    },
    {
      "cell_type": "code",
      "metadata": {
        "id": "RjdFWPItf2OX"
      },
      "source": [
        "all_recommand_papers"
      ],
      "execution_count": null,
      "outputs": []
    }
  ]
}